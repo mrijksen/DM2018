{
 "cells": [
  {
   "cell_type": "code",
   "execution_count": null,
   "metadata": {},
   "outputs": [],
   "source": [
    "\n",
    "import numpy as np # linear algebra\n",
    "import pandas as pd # data processing, CSV file I/O (e.g. pd.read_csv)\n",
    "import re\n",
    "import seaborn as sns\n",
    "import matplotlib.pyplot as plt\n",
    "import matplotlib\n",
    "import os\n",
    "#Models\n",
    "from sklearn.linear_model import LogisticRegression\n",
    "from sklearn.svm import SVC, LinearSVC\n",
    "from sklearn.ensemble import RandomForestClassifier\n",
    "from sklearn.neighbors import KNeighborsClassifier\n",
    "from sklearn.cross_validation import cross_val_score, cross_val_predict, KFold\n",
    "from sklearn.pipeline import make_pipeline\n",
    "from pylab import rcParams\n",
    "from sklearn.metrics import confusion_matrix\n",
    "\n",
    "import data_preprocessing\n",
    "%matplotlib inline\n",
    "params = {'axes.labelsize': 14,'axes.titlesize':14, 'text.fontsize': 14, 'legend.fontsize': 14,\n",
    "          'xtick.labelsize': 13, 'ytick.labelsize': 14}\n",
    "rcParams['figure.figsize'] = 6.5, 4\n",
    "\n",
    "matplotlib.rcParams.update(params)\n"
   ]
  },
  {
   "cell_type": "code",
   "execution_count": null,
   "metadata": {
    "collapsed": true
   },
   "outputs": [],
   "source": [
    "# output_path = \"/Users/efiathieniti/Documents/Dropbox/UVA/Data Mining/Assignments/Assignment2/\"\n"
   ]
  },
  {
   "cell_type": "code",
   "execution_count": null,
   "metadata": {
    "collapsed": true
   },
   "outputs": [],
   "source": [
    "data = pd.read_csv('/home/marleen/Documents/Data Mining VU data/training_set_VU_DM_2014.csv')"
   ]
  },
  {
   "cell_type": "code",
   "execution_count": null,
   "metadata": {
    "collapsed": true
   },
   "outputs": [],
   "source": [
    "df = data.head(5000)\n"
   ]
  },
  {
   "cell_type": "markdown",
   "metadata": {},
   "source": [
    "#  Feature Engineering"
   ]
  },
  {
   "cell_type": "markdown",
   "metadata": {},
   "source": [
    "## Composite features\n",
    "Rank by group\n",
    "1. Extract season: autumn, summer, winter \n"
   ]
  },
  {
   "cell_type": "code",
   "execution_count": null,
   "metadata": {},
   "outputs": [],
   "source": [
    "df = data_preprocessing.create_composite_features(df)\n",
    "\n",
    "df = data_preprocessing.normalize_within_group(df)\n",
    "    \n"
   ]
  },
  {
   "cell_type": "code",
   "execution_count": null,
   "metadata": {},
   "outputs": [],
   "source": [
    "# Subselect columns - include booking_book\n",
    "summary_metrics = pd.DataFrame(df.describe())\n",
    "summary_metrics.columns"
   ]
  },
  {
   "cell_type": "code",
   "execution_count": null,
   "metadata": {
    "collapsed": true
   },
   "outputs": [],
   "source": [
    "df=df[list(summary_metrics.columns)]"
   ]
  },
  {
   "cell_type": "code",
   "execution_count": null,
   "metadata": {},
   "outputs": [],
   "source": [
    "summary_metrics"
   ]
  },
  {
   "cell_type": "code",
   "execution_count": null,
   "metadata": {
    "collapsed": true
   },
   "outputs": [],
   "source": []
  },
  {
   "cell_type": "code",
   "execution_count": null,
   "metadata": {},
   "outputs": [],
   "source": [
    " df.columns.get_loc(\"booking_bool\")"
   ]
  },
  {
   "cell_type": "markdown",
   "metadata": {},
   "source": [
    "### Calculate correlation and mutual information/information gain"
   ]
  },
  {
   "cell_type": "code",
   "execution_count": null,
   "metadata": {
    "collapsed": true
   },
   "outputs": [],
   "source": [
    "#columns_to_plot=[50,12,39,42,47,48,51,53]\n",
    "#g = sns.pairplot( df.iloc[1:500,columns_to_plot], hue=\"booking_bool\",palette = 'seismic',size=5,diag_kind = 'kde',diag_kws=dict(shade=True),plot_kws=dict(s=10),  )\n",
    "\n"
   ]
  },
  {
   "cell_type": "markdown",
   "metadata": {
    "collapsed": true
   },
   "source": [
    "\n"
   ]
  },
  {
   "cell_type": "code",
   "execution_count": null,
   "metadata": {},
   "outputs": [],
   "source": [
    "selected_features = ['value_for_money','price_usd_normalized', 'star_rank']\n",
    "features_to_keep = ['booking_bool', 'click_bool', 'srch_id']\n",
    "all_possible_features = selected_features+features_to_keep\n",
    "df_to_train = df.ix[:,all_possible_features]\n",
    "\n",
    "df_to_train['relevance']=df_to_train.booking_bool+df_to_train.click_bool\n",
    "\n",
    "for feature in all_possible_features:\n",
    "    df_to_train[feature][df_to_train[feature].isnull()] = df_to_train[feature].median()\n",
    "\n",
    "\n"
   ]
  },
  {
   "cell_type": "code",
   "execution_count": null,
   "metadata": {
    "collapsed": true
   },
   "outputs": [],
   "source": [
    "relevance_arr = np.array(df_to_train.relevance)\n",
    "feature_arr = np.array(df_to_train[selected_features])\n",
    "id_arr = np.array(df_to_train.srch_id)"
   ]
  },
  {
   "cell_type": "code",
   "execution_count": null,
   "metadata": {},
   "outputs": [],
   "source": [
    "import pyltr\n",
    "metric = pyltr.metrics.NDCG(k=10)\n",
    "\n",
    "model = pyltr.models.LambdaMART(\n",
    "    metric=metric,\n",
    "    n_estimators=1000,\n",
    "    learning_rate=0.02,\n",
    "    max_features=0.5,\n",
    "    query_subsample=0.5,\n",
    "    max_leaf_nodes=10,\n",
    "    min_samples_leaf=64,\n",
    "    verbose=1,\n",
    ")\n",
    "\n",
    "model.fit(feature_arr, relevance_arr, id_arr)"
   ]
  },
  {
   "cell_type": "markdown",
   "metadata": {},
   "source": [
    "## Missing values"
   ]
  },
  {
   "cell_type": "code",
   "execution_count": null,
   "metadata": {},
   "outputs": [],
   "source": [
    "\n"
   ]
  },
  {
   "cell_type": "markdown",
   "metadata": {},
   "source": [
    "# Build Model and classifier"
   ]
  },
  {
   "cell_type": "code",
   "execution_count": null,
   "metadata": {
    "collapsed": true
   },
   "outputs": [],
   "source": [
    "## Finalise the dataset\n",
    "final_df=df_to_train\n",
    "\n",
    "# Choose setting \n",
    "mode = 'Full' # 'Full' or 'partial'\n",
    "model_to_plot=0 # 0 or 1\n",
    "mode = 'partial'\n",
    "\n",
    "# For SVM use Age continuous as it can learn nonlinear relationships\n",
    "#selected_features =[\"Pclass\", \"Sex\", \"Age*Class\", \"Fare_Per_Person\", \"hasCabin\", \n",
    "#                    \"Title\",\"Survived\",\n",
    "#                   \"Family_Size\", \"Embarked\", \"Age\"]\n",
    "\n",
    "select = ['booking_bool']\n",
    "auc = []\n",
    "\n",
    "models_names = [ 'LogisticRegression', 'RandomForestClassifier', 'KNeighborsClassifier' ]\n",
    "metric = 'roc_auc'\n",
    "cv=4\n",
    "models = [ LogisticRegression,  RandomForestClassifier , SVC]\n"
   ]
  },
  {
   "cell_type": "code",
   "execution_count": null,
   "metadata": {
    "collapsed": true
   },
   "outputs": [],
   "source": []
  },
  {
   "cell_type": "code",
   "execution_count": null,
   "metadata": {},
   "outputs": [],
   "source": [
    "\n",
    "model_to_plot = 1\n",
    "class_predict = \"booking_bool\"\n",
    "all_possible_features = selected_features       \n",
    "for feature in all_possible_features:\n",
    "    select.append(feature)\n",
    "    print(select)\n",
    "    full_set = final_df[select]\n",
    "\n",
    "    # First split the data into train and test\n",
    "\n",
    "    # Extract the train and test from the new data_frame\n",
    "    cols = list(set(full_set.columns) - set([class_predict]))\n",
    "    X_train = full_set[:][cols]\n",
    "    y_train = full_set[:][class_predict]\n",
    "    \n",
    "        # Running some models, testing with small cross_validation and f1 metric (binary target) and running the prediction\n",
    "    # with all the training set\n",
    "    \n",
    "    mscores = []\n",
    "    lscores = ['f1','accuracy','recall','roc_auc']\n",
    "    np.random.seed(42) # Reproducibility of results is very important!\n",
    "    for elem in models:\n",
    "        mscores2 = []\n",
    "        model = elem()\n",
    "        for sc in lscores:\n",
    "            scores = cross_val_score(model, X_train, y_train, scoring=sc, cv=cv)\n",
    "            #y_pred = cross_val_predict(model, X_train, y_train, scoring=sc, cv=cv)\n",
    "            #conf_mat = confusion_matrix(y_train,y_pred)\n",
    "            \n",
    "            mscores2.append(np.mean(scores))\n",
    "            mscores.append(mscores2)\n",
    "       # model_predict(model, X_train, y_train, mode)       \n",
    "    scores = pd.DataFrame(mscores, columns=lscores)\n",
    "    print(scores.ix[model_to_plot,metric])\n",
    "    auc.append(scores.ix[model_to_plot,metric])\n",
    "\n",
    "plt.plot(auc)\n",
    "plt.ylabel(metric)\n",
    "plt.title(models_names[model_to_plot])\n",
    "plt.xticks(np.arange(len(all_possible_features)), all_possible_features,  rotation=45)\n",
    "plt.savefig(output_path + \"auc_by_feature_%s_%s_cv%s.png\"%(models_names[model_to_plot], mode, cv), format='png')\n",
    "plt.tight_layout()  \n",
    "plt.show()\n",
    "    "
   ]
  },
  {
   "cell_type": "code",
   "execution_count": null,
   "metadata": {
    "collapsed": true
   },
   "outputs": [],
   "source": []
  },
  {
   "cell_type": "code",
   "execution_count": null,
   "metadata": {
    "collapsed": true
   },
   "outputs": [],
   "source": []
  },
  {
   "cell_type": "code",
   "execution_count": null,
   "metadata": {
    "collapsed": true
   },
   "outputs": [],
   "source": []
  },
  {
   "cell_type": "code",
   "execution_count": null,
   "metadata": {
    "collapsed": true
   },
   "outputs": [],
   "source": []
  },
  {
   "cell_type": "code",
   "execution_count": null,
   "metadata": {
    "collapsed": true
   },
   "outputs": [],
   "source": []
  }
 ],
 "metadata": {
  "kernelspec": {
   "display_name": "Python 3",
   "language": "python",
   "name": "python3"
  },
  "language_info": {
   "codemirror_mode": {
    "name": "ipython",
    "version": 3
   },
   "file_extension": ".py",
   "mimetype": "text/x-python",
   "name": "python",
   "nbconvert_exporter": "python",
   "pygments_lexer": "ipython3",
   "version": "3.6.1"
  }
 },
 "nbformat": 4,
 "nbformat_minor": 2
}
