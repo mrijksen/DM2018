{
 "cells": [
  {
   "cell_type": "code",
   "execution_count": 15,
   "metadata": {},
   "outputs": [
    {
     "name": "stderr",
     "output_type": "stream",
     "text": [
      "/Users/efiathieniti/miniconda3/envs/py35/lib/python3.5/site-packages/matplotlib/__init__.py:913: UserWarning: text.fontsize is deprecated and replaced with font.size; please use the latter.\n",
      "  warnings.warn(self.msg_depr % (key, alt_key))\n"
     ]
    }
   ],
   "source": [
    "\n",
    "import numpy as np # linear algebra\n",
    "import pandas as pd # data processing, CSV file I/O (e.g. pd.read_csv)\n",
    "import re\n",
    "import seaborn as sns\n",
    "import matplotlib.pyplot as plt\n",
    "import matplotlib\n",
    "import os\n",
    "#Models\n",
    "from sklearn.linear_model import LogisticRegression\n",
    "from sklearn.svm import SVC, LinearSVC\n",
    "from sklearn.ensemble import RandomForestClassifier\n",
    "from sklearn.neighbors import KNeighborsClassifier\n",
    "from sklearn.cross_validation import cross_val_score, cross_val_predict, KFold\n",
    "from sklearn.pipeline import make_pipeline\n",
    "from pylab import rcParams\n",
    "from sklearn.metrics import confusion_matrix\n",
    "\n",
    "import data_preprocessing\n",
    "%matplotlib inline\n",
    "params = {'axes.labelsize': 14,'axes.titlesize':14, 'text.fontsize': 14, 'legend.fontsize': 14,\n",
    "          'xtick.labelsize': 13, 'ytick.labelsize': 14}\n",
    "rcParams['figure.figsize'] = 6.5, 4\n",
    "\n",
    "matplotlib.rcParams.update(params)\n"
   ]
  },
  {
   "cell_type": "code",
   "execution_count": 16,
   "metadata": {
    "collapsed": true
   },
   "outputs": [],
   "source": [
    "output_path = \"/Users/efiathieniti/Documents/Dropbox/UVA/Data Mining/Assignments/Assignment2/\"\n"
   ]
  },
  {
   "cell_type": "code",
   "execution_count": 17,
   "metadata": {
    "collapsed": true
   },
   "outputs": [],
   "source": [
    "data = pd.read_csv('Data Mining VU data/training_set_VU_DM_2014.csv')"
   ]
  },
  {
   "cell_type": "code",
   "execution_count": 18,
   "metadata": {},
   "outputs": [],
   "source": [
    "df = data.head(5000)\n"
   ]
  },
  {
   "cell_type": "markdown",
   "metadata": {},
   "source": [
    "#  Feature Engineering"
   ]
  },
  {
   "cell_type": "markdown",
   "metadata": {},
   "source": [
    "## Composite features\n",
    "Rank by group\n",
    "1. Extract season: autumn, summer, winter \n"
   ]
  },
  {
   "cell_type": "code",
   "execution_count": 27,
   "metadata": {},
   "outputs": [],
   "source": [
    "df = data_preprocessing.create_composite_features(df)\n",
    "\n",
    "df = data_preprocessing.normalize_within_group(df)\n",
    "    \n"
   ]
  },
  {
   "cell_type": "code",
   "execution_count": 23,
   "metadata": {},
   "outputs": [
    {
     "data": {
      "text/plain": [
       "Index(['srch_id', 'site_id', 'visitor_location_country_id',\n",
       "       'visitor_hist_starrating', 'visitor_hist_adr_usd', 'prop_country_id',\n",
       "       'prop_id', 'prop_starrating', 'prop_review_score', 'prop_brand_bool',\n",
       "       'prop_location_score1', 'prop_location_score2',\n",
       "       'prop_log_historical_price', 'position', 'price_usd', 'promotion_flag',\n",
       "       'srch_destination_id', 'srch_length_of_stay', 'srch_booking_window',\n",
       "       'srch_adults_count', 'srch_children_count', 'srch_room_count',\n",
       "       'srch_saturday_night_bool', 'srch_query_affinity_score',\n",
       "       'orig_destination_distance', 'random_bool', 'comp1_rate', 'comp1_inv',\n",
       "       'comp1_rate_percent_diff', 'comp2_rate', 'comp2_inv',\n",
       "       'comp2_rate_percent_diff', 'comp3_rate', 'comp3_inv',\n",
       "       'comp3_rate_percent_diff', 'comp4_rate', 'comp4_inv',\n",
       "       'comp4_rate_percent_diff', 'comp5_rate', 'comp5_inv',\n",
       "       'comp5_rate_percent_diff', 'comp6_rate', 'comp6_inv',\n",
       "       'comp6_rate_percent_diff', 'comp7_rate', 'comp7_inv',\n",
       "       'comp7_rate_percent_diff', 'comp8_rate', 'comp8_inv',\n",
       "       'comp8_rate_percent_diff', 'click_bool', 'gross_bookings_usd',\n",
       "       'booking_bool', 'season', 'price_rank', 'star_rank', 'value_for_money',\n",
       "       'price_usd_normalized'],\n",
       "      dtype='object')"
      ]
     },
     "execution_count": 23,
     "metadata": {},
     "output_type": "execute_result"
    }
   ],
   "source": [
    "# Subselect columns - include booking_book\n",
    "summary_metrics = pd.DataFrame(df.describe())\n",
    "summary_metrics.columns"
   ]
  },
  {
   "cell_type": "code",
   "execution_count": 190,
   "metadata": {
    "collapsed": true
   },
   "outputs": [],
   "source": [
    "df=df[list(summary_metrics.columns)]"
   ]
  },
  {
   "cell_type": "code",
   "execution_count": 192,
   "metadata": {},
   "outputs": [
    {
     "data": {
      "text/html": [
       "<div>\n",
       "<table border=\"1\" class=\"dataframe\">\n",
       "  <thead>\n",
       "    <tr style=\"text-align: right;\">\n",
       "      <th></th>\n",
       "      <th>srch_id</th>\n",
       "      <th>site_id</th>\n",
       "      <th>visitor_location_country_id</th>\n",
       "      <th>visitor_hist_starrating</th>\n",
       "      <th>visitor_hist_adr_usd</th>\n",
       "      <th>prop_country_id</th>\n",
       "      <th>prop_id</th>\n",
       "      <th>prop_starrating</th>\n",
       "      <th>prop_review_score</th>\n",
       "      <th>prop_brand_bool</th>\n",
       "      <th>...</th>\n",
       "      <th>comp7_rate</th>\n",
       "      <th>comp7_inv</th>\n",
       "      <th>comp7_rate_percent_diff</th>\n",
       "      <th>comp8_rate</th>\n",
       "      <th>comp8_inv</th>\n",
       "      <th>comp8_rate_percent_diff</th>\n",
       "      <th>click_bool</th>\n",
       "      <th>gross_bookings_usd</th>\n",
       "      <th>booking_bool</th>\n",
       "      <th>season</th>\n",
       "    </tr>\n",
       "  </thead>\n",
       "  <tbody>\n",
       "    <tr>\n",
       "      <th>count</th>\n",
       "      <td>5000.0000</td>\n",
       "      <td>5000.000000</td>\n",
       "      <td>5000.000000</td>\n",
       "      <td>328.000000</td>\n",
       "      <td>328.000000</td>\n",
       "      <td>5000.000000</td>\n",
       "      <td>5000.000000</td>\n",
       "      <td>5000.000000</td>\n",
       "      <td>4992.000000</td>\n",
       "      <td>5000.000000</td>\n",
       "      <td>...</td>\n",
       "      <td>310.000000</td>\n",
       "      <td>376.000000</td>\n",
       "      <td>140.000000</td>\n",
       "      <td>1982.000000</td>\n",
       "      <td>2060.000000</td>\n",
       "      <td>623.000000</td>\n",
       "      <td>5000.000000</td>\n",
       "      <td>136.000000</td>\n",
       "      <td>5000.000000</td>\n",
       "      <td>5000.000000</td>\n",
       "    </tr>\n",
       "    <tr>\n",
       "      <th>mean</th>\n",
       "      <td>175.6626</td>\n",
       "      <td>10.055800</td>\n",
       "      <td>177.633800</td>\n",
       "      <td>3.208384</td>\n",
       "      <td>179.015854</td>\n",
       "      <td>174.413800</td>\n",
       "      <td>70258.955400</td>\n",
       "      <td>3.079000</td>\n",
       "      <td>3.756510</td>\n",
       "      <td>0.633400</td>\n",
       "      <td>...</td>\n",
       "      <td>0.174194</td>\n",
       "      <td>0.119681</td>\n",
       "      <td>22.614286</td>\n",
       "      <td>-0.076186</td>\n",
       "      <td>0.008252</td>\n",
       "      <td>14.051364</td>\n",
       "      <td>0.045000</td>\n",
       "      <td>429.725882</td>\n",
       "      <td>0.027200</td>\n",
       "      <td>1.930200</td>\n",
       "    </tr>\n",
       "    <tr>\n",
       "      <th>std</th>\n",
       "      <td>102.7139</td>\n",
       "      <td>7.798208</td>\n",
       "      <td>65.090219</td>\n",
       "      <td>0.667490</td>\n",
       "      <td>62.477158</td>\n",
       "      <td>68.192195</td>\n",
       "      <td>40369.113419</td>\n",
       "      <td>1.069854</td>\n",
       "      <td>1.039713</td>\n",
       "      <td>0.481924</td>\n",
       "      <td>...</td>\n",
       "      <td>0.587335</td>\n",
       "      <td>0.348767</td>\n",
       "      <td>49.315252</td>\n",
       "      <td>0.475283</td>\n",
       "      <td>0.214641</td>\n",
       "      <td>12.496968</td>\n",
       "      <td>0.207325</td>\n",
       "      <td>583.879615</td>\n",
       "      <td>0.162682</td>\n",
       "      <td>0.917331</td>\n",
       "    </tr>\n",
       "    <tr>\n",
       "      <th>min</th>\n",
       "      <td>1.0000</td>\n",
       "      <td>5.000000</td>\n",
       "      <td>4.000000</td>\n",
       "      <td>2.300000</td>\n",
       "      <td>74.790000</td>\n",
       "      <td>13.000000</td>\n",
       "      <td>18.000000</td>\n",
       "      <td>0.000000</td>\n",
       "      <td>0.000000</td>\n",
       "      <td>0.000000</td>\n",
       "      <td>...</td>\n",
       "      <td>-1.000000</td>\n",
       "      <td>-1.000000</td>\n",
       "      <td>2.000000</td>\n",
       "      <td>-1.000000</td>\n",
       "      <td>-1.000000</td>\n",
       "      <td>2.000000</td>\n",
       "      <td>0.000000</td>\n",
       "      <td>47.100000</td>\n",
       "      <td>0.000000</td>\n",
       "      <td>1.000000</td>\n",
       "    </tr>\n",
       "    <tr>\n",
       "      <th>25%</th>\n",
       "      <td>90.0000</td>\n",
       "      <td>5.000000</td>\n",
       "      <td>100.000000</td>\n",
       "      <td>2.500000</td>\n",
       "      <td>122.510000</td>\n",
       "      <td>100.000000</td>\n",
       "      <td>36035.750000</td>\n",
       "      <td>3.000000</td>\n",
       "      <td>3.500000</td>\n",
       "      <td>0.000000</td>\n",
       "      <td>...</td>\n",
       "      <td>0.000000</td>\n",
       "      <td>0.000000</td>\n",
       "      <td>7.750000</td>\n",
       "      <td>0.000000</td>\n",
       "      <td>0.000000</td>\n",
       "      <td>7.000000</td>\n",
       "      <td>0.000000</td>\n",
       "      <td>128.082500</td>\n",
       "      <td>0.000000</td>\n",
       "      <td>1.000000</td>\n",
       "    </tr>\n",
       "    <tr>\n",
       "      <th>50%</th>\n",
       "      <td>162.0000</td>\n",
       "      <td>5.000000</td>\n",
       "      <td>219.000000</td>\n",
       "      <td>3.260000</td>\n",
       "      <td>180.750000</td>\n",
       "      <td>219.000000</td>\n",
       "      <td>69892.500000</td>\n",
       "      <td>3.000000</td>\n",
       "      <td>4.000000</td>\n",
       "      <td>1.000000</td>\n",
       "      <td>...</td>\n",
       "      <td>0.000000</td>\n",
       "      <td>0.000000</td>\n",
       "      <td>12.000000</td>\n",
       "      <td>0.000000</td>\n",
       "      <td>0.000000</td>\n",
       "      <td>11.000000</td>\n",
       "      <td>0.000000</td>\n",
       "      <td>208.120000</td>\n",
       "      <td>0.000000</td>\n",
       "      <td>2.000000</td>\n",
       "    </tr>\n",
       "    <tr>\n",
       "      <th>75%</th>\n",
       "      <td>265.0000</td>\n",
       "      <td>14.000000</td>\n",
       "      <td>219.000000</td>\n",
       "      <td>3.740000</td>\n",
       "      <td>229.180000</td>\n",
       "      <td>219.000000</td>\n",
       "      <td>104517.000000</td>\n",
       "      <td>4.000000</td>\n",
       "      <td>4.500000</td>\n",
       "      <td>1.000000</td>\n",
       "      <td>...</td>\n",
       "      <td>1.000000</td>\n",
       "      <td>0.000000</td>\n",
       "      <td>24.000000</td>\n",
       "      <td>0.000000</td>\n",
       "      <td>0.000000</td>\n",
       "      <td>17.000000</td>\n",
       "      <td>0.000000</td>\n",
       "      <td>496.932500</td>\n",
       "      <td>0.000000</td>\n",
       "      <td>2.000000</td>\n",
       "    </tr>\n",
       "    <tr>\n",
       "      <th>max</th>\n",
       "      <td>365.0000</td>\n",
       "      <td>32.000000</td>\n",
       "      <td>220.000000</td>\n",
       "      <td>5.000000</td>\n",
       "      <td>334.430000</td>\n",
       "      <td>221.000000</td>\n",
       "      <td>140812.000000</td>\n",
       "      <td>5.000000</td>\n",
       "      <td>5.000000</td>\n",
       "      <td>1.000000</td>\n",
       "      <td>...</td>\n",
       "      <td>1.000000</td>\n",
       "      <td>1.000000</td>\n",
       "      <td>527.000000</td>\n",
       "      <td>1.000000</td>\n",
       "      <td>1.000000</td>\n",
       "      <td>153.000000</td>\n",
       "      <td>1.000000</td>\n",
       "      <td>4491.280000</td>\n",
       "      <td>1.000000</td>\n",
       "      <td>4.000000</td>\n",
       "    </tr>\n",
       "  </tbody>\n",
       "</table>\n",
       "<p>8 rows × 54 columns</p>\n",
       "</div>"
      ],
      "text/plain": [
       "         srch_id      site_id  visitor_location_country_id  \\\n",
       "count  5000.0000  5000.000000                  5000.000000   \n",
       "mean    175.6626    10.055800                   177.633800   \n",
       "std     102.7139     7.798208                    65.090219   \n",
       "min       1.0000     5.000000                     4.000000   \n",
       "25%      90.0000     5.000000                   100.000000   \n",
       "50%     162.0000     5.000000                   219.000000   \n",
       "75%     265.0000    14.000000                   219.000000   \n",
       "max     365.0000    32.000000                   220.000000   \n",
       "\n",
       "       visitor_hist_starrating  visitor_hist_adr_usd  prop_country_id  \\\n",
       "count               328.000000            328.000000      5000.000000   \n",
       "mean                  3.208384            179.015854       174.413800   \n",
       "std                   0.667490             62.477158        68.192195   \n",
       "min                   2.300000             74.790000        13.000000   \n",
       "25%                   2.500000            122.510000       100.000000   \n",
       "50%                   3.260000            180.750000       219.000000   \n",
       "75%                   3.740000            229.180000       219.000000   \n",
       "max                   5.000000            334.430000       221.000000   \n",
       "\n",
       "             prop_id  prop_starrating  prop_review_score  prop_brand_bool  \\\n",
       "count    5000.000000      5000.000000        4992.000000      5000.000000   \n",
       "mean    70258.955400         3.079000           3.756510         0.633400   \n",
       "std     40369.113419         1.069854           1.039713         0.481924   \n",
       "min        18.000000         0.000000           0.000000         0.000000   \n",
       "25%     36035.750000         3.000000           3.500000         0.000000   \n",
       "50%     69892.500000         3.000000           4.000000         1.000000   \n",
       "75%    104517.000000         4.000000           4.500000         1.000000   \n",
       "max    140812.000000         5.000000           5.000000         1.000000   \n",
       "\n",
       "          ...       comp7_rate   comp7_inv  comp7_rate_percent_diff  \\\n",
       "count     ...       310.000000  376.000000               140.000000   \n",
       "mean      ...         0.174194    0.119681                22.614286   \n",
       "std       ...         0.587335    0.348767                49.315252   \n",
       "min       ...        -1.000000   -1.000000                 2.000000   \n",
       "25%       ...         0.000000    0.000000                 7.750000   \n",
       "50%       ...         0.000000    0.000000                12.000000   \n",
       "75%       ...         1.000000    0.000000                24.000000   \n",
       "max       ...         1.000000    1.000000               527.000000   \n",
       "\n",
       "        comp8_rate    comp8_inv  comp8_rate_percent_diff   click_bool  \\\n",
       "count  1982.000000  2060.000000               623.000000  5000.000000   \n",
       "mean     -0.076186     0.008252                14.051364     0.045000   \n",
       "std       0.475283     0.214641                12.496968     0.207325   \n",
       "min      -1.000000    -1.000000                 2.000000     0.000000   \n",
       "25%       0.000000     0.000000                 7.000000     0.000000   \n",
       "50%       0.000000     0.000000                11.000000     0.000000   \n",
       "75%       0.000000     0.000000                17.000000     0.000000   \n",
       "max       1.000000     1.000000               153.000000     1.000000   \n",
       "\n",
       "       gross_bookings_usd  booking_bool       season  \n",
       "count          136.000000   5000.000000  5000.000000  \n",
       "mean           429.725882      0.027200     1.930200  \n",
       "std            583.879615      0.162682     0.917331  \n",
       "min             47.100000      0.000000     1.000000  \n",
       "25%            128.082500      0.000000     1.000000  \n",
       "50%            208.120000      0.000000     2.000000  \n",
       "75%            496.932500      0.000000     2.000000  \n",
       "max           4491.280000      1.000000     4.000000  \n",
       "\n",
       "[8 rows x 54 columns]"
      ]
     },
     "execution_count": 192,
     "metadata": {},
     "output_type": "execute_result"
    }
   ],
   "source": [
    "summary_metrics"
   ]
  },
  {
   "cell_type": "code",
   "execution_count": null,
   "metadata": {
    "collapsed": true
   },
   "outputs": [],
   "source": []
  },
  {
   "cell_type": "code",
   "execution_count": 25,
   "metadata": {},
   "outputs": [
    {
     "data": {
      "text/plain": [
       "53"
      ]
     },
     "execution_count": 25,
     "metadata": {},
     "output_type": "execute_result"
    }
   ],
   "source": [
    " df.columns.get_loc(\"booking_bool\")"
   ]
  },
  {
   "cell_type": "markdown",
   "metadata": {},
   "source": [
    "### Calculate correlation and mutual information/information gain"
   ]
  },
  {
   "cell_type": "code",
   "execution_count": 28,
   "metadata": {},
   "outputs": [],
   "source": [
    "#columns_to_plot=[50,12,39,42,47,48,51,53]\n",
    "#g = sns.pairplot( df.iloc[1:500,columns_to_plot], hue=\"booking_bool\",palette = 'seismic',size=5,diag_kind = 'kde',diag_kws=dict(shade=True),plot_kws=dict(s=10),  )\n",
    "\n"
   ]
  },
  {
   "cell_type": "markdown",
   "metadata": {
    "collapsed": true
   },
   "source": [
    "\n"
   ]
  },
  {
   "cell_type": "code",
   "execution_count": 201,
   "metadata": {
    "collapsed": true
   },
   "outputs": [],
   "source": [
    "selected_features = ['value_for_money','price_usd_normalized', 'star_rank']\n",
    "features_to_keep = ['booking_bool']\n",
    "all_possible_features = selected_features+features_to_keep\n",
    "df_to_train = df.ix[:,all_possible_features]"
   ]
  },
  {
   "cell_type": "markdown",
   "metadata": {},
   "source": [
    "## Missing values"
   ]
  },
  {
   "cell_type": "code",
   "execution_count": 205,
   "metadata": {},
   "outputs": [
    {
     "name": "stderr",
     "output_type": "stream",
     "text": [
      "/Users/efiathieniti/miniconda3/envs/py35/lib/python3.5/site-packages/ipykernel_launcher.py:2: SettingWithCopyWarning: \n",
      "A value is trying to be set on a copy of a slice from a DataFrame\n",
      "\n",
      "See the caveats in the documentation: http://pandas.pydata.org/pandas-docs/stable/indexing.html#indexing-view-versus-copy\n",
      "  \n"
     ]
    }
   ],
   "source": [
    "for feature in all_possible_features:\n",
    "    df_to_train[feature][df_to_train[feature].isnull()] = df_to_train[feature].median()\n"
   ]
  },
  {
   "cell_type": "markdown",
   "metadata": {},
   "source": [
    "# Build Model and classifier"
   ]
  },
  {
   "cell_type": "code",
   "execution_count": 203,
   "metadata": {
    "collapsed": true
   },
   "outputs": [],
   "source": [
    "## Finalise the dataset\n",
    "final_df=df_to_train\n",
    "\n",
    "# Choose setting \n",
    "mode = 'Full' # 'Full' or 'partial'\n",
    "model_to_plot=0 # 0 or 1\n",
    "mode = 'partial'\n",
    "\n",
    "# For SVM use Age continuous as it can learn nonlinear relationships\n",
    "#selected_features =[\"Pclass\", \"Sex\", \"Age*Class\", \"Fare_Per_Person\", \"hasCabin\", \n",
    "#                    \"Title\",\"Survived\",\n",
    "#                   \"Family_Size\", \"Embarked\", \"Age\"]\n",
    "\n",
    "select = ['booking_bool']\n",
    "auc = []\n",
    "\n",
    "models_names = [ 'LogisticRegression', 'RandomForestClassifier', 'KNeighborsClassifier' ]\n",
    "metric = 'roc_auc'\n",
    "cv=4\n",
    "models = [ LogisticRegression,  RandomForestClassifier , SVC]\n"
   ]
  },
  {
   "cell_type": "code",
   "execution_count": null,
   "metadata": {
    "collapsed": true
   },
   "outputs": [],
   "source": []
  },
  {
   "cell_type": "code",
   "execution_count": 204,
   "metadata": {},
   "outputs": [
    {
     "name": "stdout",
     "output_type": "stream",
     "text": [
      "['booking_bool', 'value_for_money']\n"
     ]
    },
    {
     "name": "stderr",
     "output_type": "stream",
     "text": [
      "/Users/efiathieniti/miniconda3/envs/py35/lib/python3.5/site-packages/sklearn/metrics/classification.py:1135: UndefinedMetricWarning: F-score is ill-defined and being set to 0.0 due to no predicted samples.\n",
      "  'precision', 'predicted', average, warn_for)\n",
      "/Users/efiathieniti/miniconda3/envs/py35/lib/python3.5/site-packages/sklearn/metrics/classification.py:1135: UndefinedMetricWarning: F-score is ill-defined and being set to 0.0 due to no predicted samples.\n",
      "  'precision', 'predicted', average, warn_for)\n",
      "/Users/efiathieniti/miniconda3/envs/py35/lib/python3.5/site-packages/sklearn/metrics/classification.py:1135: UndefinedMetricWarning: F-score is ill-defined and being set to 0.0 due to no predicted samples.\n",
      "  'precision', 'predicted', average, warn_for)\n",
      "/Users/efiathieniti/miniconda3/envs/py35/lib/python3.5/site-packages/sklearn/metrics/classification.py:1135: UndefinedMetricWarning: F-score is ill-defined and being set to 0.0 due to no predicted samples.\n",
      "  'precision', 'predicted', average, warn_for)\n",
      "/Users/efiathieniti/miniconda3/envs/py35/lib/python3.5/site-packages/sklearn/metrics/classification.py:1135: UndefinedMetricWarning: F-score is ill-defined and being set to 0.0 due to no predicted samples.\n",
      "  'precision', 'predicted', average, warn_for)\n",
      "/Users/efiathieniti/miniconda3/envs/py35/lib/python3.5/site-packages/sklearn/metrics/classification.py:1135: UndefinedMetricWarning: F-score is ill-defined and being set to 0.0 due to no predicted samples.\n",
      "  'precision', 'predicted', average, warn_for)\n",
      "/Users/efiathieniti/miniconda3/envs/py35/lib/python3.5/site-packages/sklearn/metrics/classification.py:1135: UndefinedMetricWarning: F-score is ill-defined and being set to 0.0 due to no predicted samples.\n",
      "  'precision', 'predicted', average, warn_for)\n",
      "/Users/efiathieniti/miniconda3/envs/py35/lib/python3.5/site-packages/sklearn/metrics/classification.py:1135: UndefinedMetricWarning: F-score is ill-defined and being set to 0.0 due to no predicted samples.\n",
      "  'precision', 'predicted', average, warn_for)\n"
     ]
    },
    {
     "name": "stdout",
     "output_type": "stream",
     "text": [
      "0.540329310178\n",
      "['booking_bool', 'value_for_money', 'price_usd_normalized']\n"
     ]
    },
    {
     "name": "stderr",
     "output_type": "stream",
     "text": [
      "/Users/efiathieniti/miniconda3/envs/py35/lib/python3.5/site-packages/sklearn/metrics/classification.py:1135: UndefinedMetricWarning: F-score is ill-defined and being set to 0.0 due to no predicted samples.\n",
      "  'precision', 'predicted', average, warn_for)\n",
      "/Users/efiathieniti/miniconda3/envs/py35/lib/python3.5/site-packages/sklearn/metrics/classification.py:1135: UndefinedMetricWarning: F-score is ill-defined and being set to 0.0 due to no predicted samples.\n",
      "  'precision', 'predicted', average, warn_for)\n",
      "/Users/efiathieniti/miniconda3/envs/py35/lib/python3.5/site-packages/sklearn/metrics/classification.py:1135: UndefinedMetricWarning: F-score is ill-defined and being set to 0.0 due to no predicted samples.\n",
      "  'precision', 'predicted', average, warn_for)\n",
      "/Users/efiathieniti/miniconda3/envs/py35/lib/python3.5/site-packages/sklearn/metrics/classification.py:1135: UndefinedMetricWarning: F-score is ill-defined and being set to 0.0 due to no predicted samples.\n",
      "  'precision', 'predicted', average, warn_for)\n",
      "/Users/efiathieniti/miniconda3/envs/py35/lib/python3.5/site-packages/sklearn/metrics/classification.py:1135: UndefinedMetricWarning: F-score is ill-defined and being set to 0.0 due to no predicted samples.\n",
      "  'precision', 'predicted', average, warn_for)\n",
      "/Users/efiathieniti/miniconda3/envs/py35/lib/python3.5/site-packages/sklearn/metrics/classification.py:1135: UndefinedMetricWarning: F-score is ill-defined and being set to 0.0 due to no predicted samples.\n",
      "  'precision', 'predicted', average, warn_for)\n",
      "/Users/efiathieniti/miniconda3/envs/py35/lib/python3.5/site-packages/sklearn/metrics/classification.py:1135: UndefinedMetricWarning: F-score is ill-defined and being set to 0.0 due to no predicted samples.\n",
      "  'precision', 'predicted', average, warn_for)\n",
      "/Users/efiathieniti/miniconda3/envs/py35/lib/python3.5/site-packages/sklearn/metrics/classification.py:1135: UndefinedMetricWarning: F-score is ill-defined and being set to 0.0 due to no predicted samples.\n",
      "  'precision', 'predicted', average, warn_for)\n"
     ]
    },
    {
     "name": "stdout",
     "output_type": "stream",
     "text": [
      "0.529048955108\n",
      "['booking_bool', 'value_for_money', 'price_usd_normalized', 'star_rank']\n"
     ]
    },
    {
     "name": "stderr",
     "output_type": "stream",
     "text": [
      "/Users/efiathieniti/miniconda3/envs/py35/lib/python3.5/site-packages/sklearn/metrics/classification.py:1135: UndefinedMetricWarning: F-score is ill-defined and being set to 0.0 due to no predicted samples.\n",
      "  'precision', 'predicted', average, warn_for)\n",
      "/Users/efiathieniti/miniconda3/envs/py35/lib/python3.5/site-packages/sklearn/metrics/classification.py:1135: UndefinedMetricWarning: F-score is ill-defined and being set to 0.0 due to no predicted samples.\n",
      "  'precision', 'predicted', average, warn_for)\n",
      "/Users/efiathieniti/miniconda3/envs/py35/lib/python3.5/site-packages/sklearn/metrics/classification.py:1135: UndefinedMetricWarning: F-score is ill-defined and being set to 0.0 due to no predicted samples.\n",
      "  'precision', 'predicted', average, warn_for)\n",
      "/Users/efiathieniti/miniconda3/envs/py35/lib/python3.5/site-packages/sklearn/metrics/classification.py:1135: UndefinedMetricWarning: F-score is ill-defined and being set to 0.0 due to no predicted samples.\n",
      "  'precision', 'predicted', average, warn_for)\n",
      "/Users/efiathieniti/miniconda3/envs/py35/lib/python3.5/site-packages/sklearn/metrics/classification.py:1135: UndefinedMetricWarning: F-score is ill-defined and being set to 0.0 due to no predicted samples.\n",
      "  'precision', 'predicted', average, warn_for)\n",
      "/Users/efiathieniti/miniconda3/envs/py35/lib/python3.5/site-packages/sklearn/metrics/classification.py:1135: UndefinedMetricWarning: F-score is ill-defined and being set to 0.0 due to no predicted samples.\n",
      "  'precision', 'predicted', average, warn_for)\n",
      "/Users/efiathieniti/miniconda3/envs/py35/lib/python3.5/site-packages/sklearn/metrics/classification.py:1135: UndefinedMetricWarning: F-score is ill-defined and being set to 0.0 due to no predicted samples.\n",
      "  'precision', 'predicted', average, warn_for)\n",
      "/Users/efiathieniti/miniconda3/envs/py35/lib/python3.5/site-packages/sklearn/metrics/classification.py:1135: UndefinedMetricWarning: F-score is ill-defined and being set to 0.0 due to no predicted samples.\n",
      "  'precision', 'predicted', average, warn_for)\n"
     ]
    },
    {
     "name": "stdout",
     "output_type": "stream",
     "text": [
      "0.60941128096\n"
     ]
    },
    {
     "data": {
      "image/png": "[encoded data removed]",
      "text/plain": [
       "<matplotlib.figure.Figure at 0x1a25f88c88>"
      ]
     },
     "metadata": {},
     "output_type": "display_data"
    }
   ],
   "source": [
    "\n",
    "model_to_plot = 1\n",
    "class_predict = \"booking_bool\"\n",
    "all_possible_features = selected_features       \n",
    "for feature in all_possible_features:\n",
    "    select.append(feature)\n",
    "    print(select)\n",
    "    full_set = final_df[select]\n",
    "\n",
    "    # First split the data into train and test\n",
    "\n",
    "    # Extract the train and test from the new data_frame\n",
    "    cols = list(set(full_set.columns) - set([class_predict]))\n",
    "    X_train = full_set[:][cols]\n",
    "    y_train = full_set[:][class_predict]\n",
    "    \n",
    "        # Running some models, testing with small cross_validation and f1 metric (binary target) and running the prediction\n",
    "    # with all the training set\n",
    "    \n",
    "    mscores = []\n",
    "    lscores = ['f1','accuracy','recall','roc_auc']\n",
    "    np.random.seed(42) # Reproducibility of results is very important!\n",
    "    for elem in models:\n",
    "        mscores2 = []\n",
    "        model = elem()\n",
    "        for sc in lscores:\n",
    "            scores = cross_val_score(model, X_train, y_train, scoring=sc, cv=cv)\n",
    "            #y_pred = cross_val_predict(model, X_train, y_train, scoring=sc, cv=cv)\n",
    "            #conf_mat = confusion_matrix(y_train,y_pred)\n",
    "            \n",
    "            mscores2.append(np.mean(scores))\n",
    "            mscores.append(mscores2)\n",
    "       # model_predict(model, X_train, y_train, mode)       \n",
    "    scores = pd.DataFrame(mscores, columns=lscores)\n",
    "    print(scores.ix[model_to_plot,metric])\n",
    "    auc.append(scores.ix[model_to_plot,metric])\n",
    "\n",
    "plt.plot(auc)\n",
    "plt.ylabel(metric)\n",
    "plt.title(models_names[model_to_plot])\n",
    "plt.xticks(np.arange(len(all_possible_features)), all_possible_features,  rotation=45)\n",
    "plt.savefig(output_path + \"auc_by_feature_%s_%s_cv%s.png\"%(models_names[model_to_plot], mode, cv), format='png')\n",
    "plt.tight_layout()  \n",
    "plt.show()\n",
    "    "
   ]
  },
  {
   "cell_type": "code",
   "execution_count": null,
   "metadata": {
    "collapsed": true
   },
   "outputs": [],
   "source": []
  },
  {
   "cell_type": "code",
   "execution_count": null,
   "metadata": {
    "collapsed": true
   },
   "outputs": [],
   "source": []
  },
  {
   "cell_type": "code",
   "execution_count": null,
   "metadata": {
    "collapsed": true
   },
   "outputs": [],
   "source": []
  },
  {
   "cell_type": "code",
   "execution_count": null,
   "metadata": {
    "collapsed": true
   },
   "outputs": [],
   "source": []
  },
  {
   "cell_type": "code",
   "execution_count": null,
   "metadata": {
    "collapsed": true
   },
   "outputs": [],
   "source": []
  }
 ],
 "metadata": {
  "kernelspec": {
   "display_name": "Python 3",
   "language": "python",
   "name": "python3"
  },
  "language_info": {
   "codemirror_mode": {
    "name": "ipython",
    "version": 3
   },
   "file_extension": ".py",
   "mimetype": "text/x-python",
   "name": "python",
   "nbconvert_exporter": "python",
   "pygments_lexer": "ipython3",
   "version": "3.5.3"
  }
 },
 "nbformat": 4,
 "nbformat_minor": 2
}
