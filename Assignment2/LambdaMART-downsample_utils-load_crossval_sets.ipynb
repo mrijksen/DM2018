{
 "cells": [
  {
   "cell_type": "code",
   "execution_count": null,
   "metadata": {},
   "outputs": [],
   "source": [
    "import numpy as np # linear algebra\n",
    "import pandas as pd # data processing, CSV file I/O (e.g. pd.read_csv)\n",
    "import re\n",
    "import seaborn as sns\n",
    "import matplotlib.pyplot as plt\n",
    "import matplotlib\n",
    "import os\n",
    "#Models\n",
    "from sklearn.linear_model import LogisticRegression\n",
    "from sklearn.svm import SVC, LinearSVC\n",
    "from sklearn.ensemble import RandomForestClassifier\n",
    "from sklearn.neighbors import KNeighborsClassifier\n",
    "from sklearn.cross_validation import cross_val_score, cross_val_predict, KFold\n",
    "from sklearn.pipeline import make_pipeline\n",
    "from pylab import rcParams\n",
    "from sklearn.metrics import confusion_matrix\n",
    "import pyltr\n",
    "\n",
    "import data_preprocessing\n",
    "%matplotlib inline\n",
    "params = {'axes.labelsize': 14,'axes.titlesize':14, 'text.fontsize': 14, 'legend.fontsize': 14,\n",
    "          'xtick.labelsize': 13, 'ytick.labelsize': 14}\n",
    "rcParams['figure.figsize'] = 6.5, 4\n",
    "\n",
    "matplotlib.rcParams.update(params)\n",
    "\n",
    "from collections import OrderedDict\n",
    "\n",
    "import utils\n",
    "from operator import itemgetter\n",
    "\n",
    "import nDCG\n",
    "import imp\n",
    "utils = imp.reload(utils)\n",
    "nDCG = imp.reload(nDCG)"
   ]
  },
  {
   "cell_type": "markdown",
   "metadata": {},
   "source": [
    "# Choose cross validation fold k"
   ]
  },
  {
   "cell_type": "code",
   "execution_count": null,
   "metadata": {
    "collapsed": true
   },
   "outputs": [],
   "source": [
    "k=1 # Choose from 0, 1, 2 ,3\n",
    "train = pd.read_pickle(\"train_new_\"+str(k))\n",
    "val = pd.read_pickle(\"val_new_\"+str(k))\n",
    "test = pd.read_pickle(\"test_new_\"+str(k))\n"
   ]
  },
  {
   "cell_type": "code",
   "execution_count": null,
   "metadata": {},
   "outputs": [],
   "source": [
    "train['relevance'].hist()\n",
    "\n",
    "plt.show()\n",
    "\n",
    "# Balance the dataset, much faster training\n",
    "if balance_flag:\n",
    "    train = utils.balance_dataset(train,downsampling_rate)\n",
    "\n"
   ]
  },
  {
   "cell_type": "code",
   "execution_count": null,
   "metadata": {
    "collapsed": true
   },
   "outputs": [],
   "source": [
    "#Efi's code for data cleaning\n",
    "df.shape\n",
    "selected_features = utils.define_features()"
   ]
  },
  {
   "cell_type": "code",
   "execution_count": null,
   "metadata": {},
   "outputs": [],
   "source": [
    "features_to_keep = ['booking_bool', 'srch_id', 'click_bool', 'prop_id', 'relevance']\n",
    "selected_features = list(set(set(selected_features).difference(features_to_keep)))\n",
    "all_possible_features = features_to_keep + selected_features\n",
    "\n",
    "all_possible_features = list(set(all_possible_features))\n",
    "df_to_train = train.ix[:,all_possible_features]\n",
    "df_to_val = val.ix[:,all_possible_features]\n",
    "df_to_test = test.ix[:,all_possible_features]\n",
    "\n",
    "\n",
    "\n",
    "#Since we've created a new variable that combined those two, there's no need in keeping them\n",
    "df_to_train.drop(['booking_bool', 'click_bool'], axis = 1)\n",
    "df_to_val.drop(['booking_bool', 'click_bool'], axis = 1)\n",
    "df_to_test.drop(['booking_bool', 'click_bool'], axis = 1)\n",
    "\n",
    "#Rearrange the columns because lambdaMART wants the target variable and the IDs in the first and second column respectively\n",
    "df_to_train = df_to_train[['relevance', 'srch_id', 'prop_id']+selected_features]\n",
    "df_to_val =  df_to_val[['relevance', 'srch_id', 'prop_id']+selected_features]\n",
    "df_to_test =  df_to_test[['relevance', 'srch_id', 'prop_id']+selected_features]\n"
   ]
  },
  {
   "cell_type": "markdown",
   "metadata": {},
   "source": [
    "# Downsample majority class"
   ]
  },
  {
   "cell_type": "code",
   "execution_count": null,
   "metadata": {
    "collapsed": true
   },
   "outputs": [],
   "source": [
    "#From dataframes to arrays\n",
    "trrelevance_arr = np.array(df_to_train['relevance'])\n",
    "trfeature_arr = np.array(df_to_train[selected_features])\n",
    "trid_arr = np.array(df_to_train.srch_id)\n",
    "\n",
    "vrelevance_arr = np.array(df_to_val['relevance'])\n",
    "vfeature_arr = np.array(df_to_val[selected_features])\n",
    "vid_arr = np.array(df_to_val.srch_id)\n",
    "\n",
    "terelevance_arr = np.array(df_to_test['relevance'])\n",
    "tefeature_arr = np.array(df_to_test[selected_features])\n",
    "teid_arr = np.array(df_to_test.srch_id)"
   ]
  },
  {
   "cell_type": "code",
   "execution_count": null,
   "metadata": {
    "collapsed": true
   },
   "outputs": [],
   "source": [
    "rand_seed=0"
   ]
  },
  {
   "cell_type": "code",
   "execution_count": null,
   "metadata": {},
   "outputs": [],
   "source": [
    "\n",
    "\n",
    "#Choose nDCG as metric (k arbitrary number)\n",
    "metric = pyltr.metrics.NDCG(k=31)\n",
    "\n",
    "#Use validation set, stop_after arbitrary number\n",
    "# Only needed if you want to perform validation (early stopping & trimming)\n",
    "monitor = pyltr.models.monitors.ValidationMonitor(\n",
    "    vfeature_arr, vrelevance_arr, vid_arr, metric=metric, stop_after=300)\n",
    "\n",
    "feats = list(df_to_test[selected_features].columns)\n",
    "feats\n",
    "\n",
    "#Use lambdaMART - have to find the best values for the parametes\n",
    "n_estimators = 50\n",
    "min_samples_leaf=64\n",
    "model = pyltr.models.LambdaMART(\n",
    "    metric=metric,\n",
    "    n_estimators=n_estimators,\n",
    "    learning_rate=learning_rate,\n",
    "    #max_features=0.5,\n",
    "    #query_subsample=0.5,\n",
    "    #max_leaf_nodes=10,\n",
    "    min_samples_leaf=min_samples_leaf,\n",
    "    verbose=1\n",
    ")\n",
    "\n",
    "model.fit(trfeature_arr, trrelevance_arr, trid_arr, monitor=monitor)\n",
    "\n",
    "tepred = model.predict(tefeature_arr)\n",
    "print('Random ranking:', metric.calc_mean_random(teid_arr, terelevance_arr))\n",
    "print('Our model:', metric.calc_mean(teid_arr, terelevance_arr, tepred))\n",
    "\n",
    "#Need to add Search and Property IDs to the output (easy)\n",
    "with open('result_statistics_cross_val.txt', mode='a+') as f:\n",
    "    f.write('%s\\t%s\\t%s\\t%s\\t%.2f\\t%.2f\\t%.2f\\t%.2f\\t%.2f\\t%.5f\\t%s\\n%.0f'%(k,rand_seed,len(feats), n_estimators, \n",
    "            len(df)/100000,len(df_to_train)/100000, len(df_to_test)/100000,\n",
    "            learning_rate,downsampling_rate, metric.calc_mean(teid_arr, terelevance_arr, tepred), balance_flag, min_samples_leaf)) \n",
    "\n",
    "\n",
    "results_df = df_to_test[['srch_id', 'prop_id', 'relevance']].copy()\n",
    "results_df['score'] = -1 * tepred\n",
    "\n",
    "# predictions = list(-1.0*predictions)\n",
    "recommendations = zip(results_df[\"srch_id\"], results_df[\"prop_id\"], results_df['relevance'], results_df['score'])\n",
    "utils.write_submission(recommendations, \"lambdamart_test.csv\")\n",
    "\n",
    "path_results = \"lambdamart_test.csv\"\n",
    "nDCG_result = nDCG.compute_ndcg(path_results)\n",
    "print(nDCG_result)\n",
    "with open('result_statistics_our_nDCG_cross_val.txt', mode='a+') as f:\n",
    "    f.write('%s\\t%s\\t%s\\t%s\\t%.2f\\t%.2f\\t%.2f\\t%.2f\\t%.2f\\t%.5f\\t%s\\n%.0f'%(k,rand_seed,len(feats), n_estimators, \n",
    "            len(df)/100000,len(df_to_train)/100000, len(df_to_test)/100000,\n",
    "            learning_rate,downsampling_rate, nDCG_result, balance_flag, min_samples_leaf)) \n"
   ]
  },
  {
   "cell_type": "code",
   "execution_count": null,
   "metadata": {
    "collapsed": true
   },
   "outputs": [],
   "source": [
    "import pickle\n",
    "model_save = pickle.dumps(model)\n",
    "new_model = pickle.loads(model_save)\n"
   ]
  },
  {
   "cell_type": "code",
   "execution_count": null,
   "metadata": {},
   "outputs": [],
   "source": [
    "ordinals = np.arange(len(df_to_test))\n",
    "np.random.shuffle(ordinals)\n",
    "recommendations = zip(results_df[\"srch_id\"], results_df[\"prop_id\"], results_df['relevance'], ordinals)\n",
    "utils.write_submission(recommendations, \"randomBenchmark_test.csv\")\n",
    "print(ordinals)"
   ]
  },
  {
   "cell_type": "code",
   "execution_count": null,
   "metadata": {},
   "outputs": [],
   "source": [
    "path_results = \"randomBenchmark_test.csv\"\n",
    "print(nDCG.compute_ndcg(path_results))"
   ]
  },
  {
   "cell_type": "code",
   "execution_count": null,
   "metadata": {
    "collapsed": true
   },
   "outputs": [],
   "source": []
  }
 ],
 "metadata": {
  "kernelspec": {
   "display_name": "Python 3",
   "language": "python",
   "name": "python3"
  },
  "language_info": {
   "codemirror_mode": {
    "name": "ipython",
    "version": 3
   },
   "file_extension": ".py",
   "mimetype": "text/x-python",
   "name": "python",
   "nbconvert_exporter": "python",
   "pygments_lexer": "ipython3",
   "version": "3.5.3"
  }
 },
 "nbformat": 4,
 "nbformat_minor": 2
}
