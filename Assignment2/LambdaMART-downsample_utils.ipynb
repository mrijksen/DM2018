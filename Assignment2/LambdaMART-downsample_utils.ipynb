{
 "cells": [
  {
   "cell_type": "code",
   "execution_count": 42,
   "metadata": {},
   "outputs": [
    {
     "name": "stderr",
     "output_type": "stream",
     "text": [
      "/Users/efiathieniti/miniconda3/envs/py35/lib/python3.5/site-packages/matplotlib/__init__.py:913: UserWarning: text.fontsize is deprecated and replaced with font.size; please use the latter.\n",
      "  warnings.warn(self.msg_depr % (key, alt_key))\n"
     ]
    }
   ],
   "source": [
    "import numpy as np # linear algebra\n",
    "import pandas as pd # data processing, CSV file I/O (e.g. pd.read_csv)\n",
    "import re\n",
    "import seaborn as sns\n",
    "import matplotlib.pyplot as plt\n",
    "import matplotlib\n",
    "import os\n",
    "#Models\n",
    "from sklearn.linear_model import LogisticRegression\n",
    "from sklearn.svm import SVC, LinearSVC\n",
    "from sklearn.ensemble import RandomForestClassifier\n",
    "from sklearn.neighbors import KNeighborsClassifier\n",
    "from sklearn.cross_validation import cross_val_score, cross_val_predict, KFold\n",
    "from sklearn.pipeline import make_pipeline\n",
    "from pylab import rcParams\n",
    "from sklearn.metrics import confusion_matrix\n",
    "import pyltr\n",
    "\n",
    "import data_preprocessing\n",
    "%matplotlib inline\n",
    "params = {'axes.labelsize': 14,'axes.titlesize':14, 'text.fontsize': 14, 'legend.fontsize': 14,\n",
    "          'xtick.labelsize': 13, 'ytick.labelsize': 14}\n",
    "rcParams['figure.figsize'] = 6.5, 4\n",
    "\n",
    "matplotlib.rcParams.update(params)\n",
    "\n",
    "from collections import OrderedDict\n",
    "\n",
    "import utils\n",
    "from operator import itemgetter\n",
    "\n",
    "import nDCG"
   ]
  },
  {
   "cell_type": "code",
   "execution_count": 39,
   "metadata": {
    "collapsed": true
   },
   "outputs": [],
   "source": [
    "import imp\n",
    "utils = imp.reload(utils)\n",
    "nDCG = imp.reload(nDCG)"
   ]
  },
  {
   "cell_type": "code",
   "execution_count": 3,
   "metadata": {
    "collapsed": true
   },
   "outputs": [],
   "source": [
    "balance_flag = True\n",
    "downsampling_rate = 3\n",
    "learning_rate = 0.05\n"
   ]
  },
  {
   "cell_type": "code",
   "execution_count": 4,
   "metadata": {
    "collapsed": true
   },
   "outputs": [],
   "source": [
    "#Training file\n",
    "df=pd.read_pickle('cleaned_dataset')\n",
    "\n",
    "# add column with relevance scores\n",
    "df['relevance'] = df['booking_bool'] + df['click_bool']\n",
    "\n",
    "# change relevance column with relevance score (1 if clicked, 5 if booked)\n",
    "df['relevance'] = df['relevance'].map({0:0, 1:1, 2:5})\n",
    "\n",
    "# all_cols = df.columns.drop(['booking_bool', 'click_bool', 'gross_bookings_usd', 'position'])\n",
    "# for feature in all_cols:\n",
    "#     df[feature] = df[feature].replace([np.inf, -np.inf], np.nan)\n",
    "#     df[feature][df[feature].isnull()] = df[feature].median()\n",
    "    \n"
   ]
  },
  {
   "cell_type": "code",
   "execution_count": 38,
   "metadata": {
    "collapsed": true
   },
   "outputs": [],
   "source": [
    "rand_seed = 3000\n",
    "# create list of ids in random order\n",
    "id_list = df.srch_id.unique()\n",
    "np.random.shuffle(id_list)\n",
    "\n",
    "# for reproducibility \n",
    "np.random.seed(rand_seed)\n",
    "\n",
    "# training - test fraction is 70/30\n",
    "id_train = int(len(id_list) * 0.7)\n",
    "id_val = int(len(id_list) * 0.9)\n",
    "\n",
    "training_id = id_list[:id_train]\n",
    "validation_id = id_list[id_train:id_val]\n",
    "\n",
    "test_id = id_list[id_val:]\n",
    "\n",
    "# divide dataset in test and training set\n",
    "train = df.loc[df.srch_id.isin(training_id)]\n",
    "val = df.loc[df.srch_id.isin(validation_id)]\n",
    "test = df.loc[df.srch_id.isin(test_id)]"
   ]
  },
  {
   "cell_type": "code",
   "execution_count": 43,
   "metadata": {},
   "outputs": [
    {
     "data": {
      "image/png": "[encoded data removed]",
      "text/plain": [
       "<matplotlib.figure.Figure at 0x1132de7b8>"
      ]
     },
     "metadata": {},
     "output_type": "display_data"
    },
    {
     "ename": "NameError",
     "evalue": "name 'pd' is not defined",
     "output_type": "error",
     "traceback": [
      "\u001b[0;31m---------------------------------------------------------------------------\u001b[0m",
      "\u001b[0;31mNameError\u001b[0m                                 Traceback (most recent call last)",
      "\u001b[0;32m<ipython-input-43-dd1c9cdc8e70>\u001b[0m in \u001b[0;36m<module>\u001b[0;34m()\u001b[0m\n\u001b[1;32m      6\u001b[0m \u001b[0;34m\u001b[0m\u001b[0m\n\u001b[1;32m      7\u001b[0m \u001b[0;32mif\u001b[0m \u001b[0mbalance_flag\u001b[0m\u001b[0;34m:\u001b[0m\u001b[0;34m\u001b[0m\u001b[0m\n\u001b[0;32m----> 8\u001b[0;31m     \u001b[0mtrain\u001b[0m \u001b[0;34m=\u001b[0m \u001b[0mutils\u001b[0m\u001b[0;34m.\u001b[0m\u001b[0mbalance_dataset\u001b[0m\u001b[0;34m(\u001b[0m\u001b[0mtrain\u001b[0m\u001b[0;34m,\u001b[0m\u001b[0mdownsampling_rate\u001b[0m\u001b[0;34m)\u001b[0m\u001b[0;34m\u001b[0m\u001b[0m\n\u001b[0m\u001b[1;32m      9\u001b[0m \u001b[0;34m\u001b[0m\u001b[0m\n",
      "\u001b[0;32m/Users/efiathieniti/PycharmProjects/DM2018/Assignment2/utils.py\u001b[0m in \u001b[0;36mbalance_dataset\u001b[0;34m(train, downsampling_rate)\u001b[0m\n\u001b[1;32m     33\u001b[0m \u001b[0;34m\u001b[0m\u001b[0m\n\u001b[1;32m     34\u001b[0m     \u001b[0;31m# Combine minority class with downsampled majority class\u001b[0m\u001b[0;34m\u001b[0m\u001b[0;34m\u001b[0m\u001b[0m\n\u001b[0;32m---> 35\u001b[0;31m     \u001b[0mdf_downsampled\u001b[0m \u001b[0;34m=\u001b[0m \u001b[0mpd\u001b[0m\u001b[0;34m.\u001b[0m\u001b[0mconcat\u001b[0m\u001b[0;34m(\u001b[0m\u001b[0;34m[\u001b[0m\u001b[0mdf_majority_downsampled\u001b[0m\u001b[0;34m,\u001b[0m \u001b[0mdf_minority\u001b[0m\u001b[0;34m,\u001b[0m \u001b[0mdf_minority2\u001b[0m\u001b[0;34m]\u001b[0m\u001b[0;34m)\u001b[0m\u001b[0;34m\u001b[0m\u001b[0m\n\u001b[0m\u001b[1;32m     36\u001b[0m \u001b[0;34m\u001b[0m\u001b[0m\n\u001b[1;32m     37\u001b[0m     \u001b[0;31m# Display new class counts\u001b[0m\u001b[0;34m\u001b[0m\u001b[0;34m\u001b[0m\u001b[0m\n",
      "\u001b[0;31mNameError\u001b[0m: name 'pd' is not defined"
     ]
    }
   ],
   "source": [
    "\n",
    "train['relevance'].hist()\n",
    "\n",
    "plt.show()\n",
    "\n",
    "\n",
    "if balance_flag:\n",
    "    train = utils.balance_dataset(train,downsampling_rate)\n",
    "\n"
   ]
  },
  {
   "cell_type": "code",
   "execution_count": 7,
   "metadata": {},
   "outputs": [
    {
     "data": {
      "text/plain": [
       "(4100000, 64)"
      ]
     },
     "execution_count": 7,
     "metadata": {},
     "output_type": "execute_result"
    }
   ],
   "source": [
    "#Efi's code for data cleaning\n",
    "df.shape"
   ]
  },
  {
   "cell_type": "code",
   "execution_count": 8,
   "metadata": {
    "collapsed": true
   },
   "outputs": [],
   "source": [
    "##Unorthodox Implementation - vectors or fearures need to be reduced/rearranged\n",
    "\n",
    "#Select the same features from each dataset\n",
    "selected_features = ['comp6_rate_percent_diff_signed',\n",
    " 'comp4_rate_percent_diff_signed',\n",
    " 'comp8_rate_percent_diff_signed',\n",
    " 'comp7_rate_percent_diff_signed',\n",
    " 'star_diff_from_historic_mean',\n",
    " 'visitor_hist_adr_usd',\n",
    " 'srch_query_affinity_score',\n",
    " 'srch_room_count',\n",
    " 'visitor_hist_starrating',\n",
    " 'price_diff_from_historic_mean',\n",
    " 'srch_adults_count',\n",
    " 'prop_brand_bool',\n",
    " 'prop_country_id',\n",
    " 'visitor_location_country_id',\n",
    " 'prop_starrating',\n",
    " 'prop_review_score',\n",
    " 'srch_saturday_night_bool',\n",
    " 'site_id',\n",
    " 'srch_length_of_stay',\n",
    " 'prop_starrating_monot',\n",
    " 'random_bool',\n",
    " 'promotion_flag',\n",
    " 'prop_location_score_mean',\n",
    " 'orig_destination_distance',\n",
    " 'srch_children_count',\n",
    " 'prop_location_score2',\n",
    " 'prop_id',\n",
    " 'star_rank']\n",
    "\n",
    "\n"
   ]
  },
  {
   "cell_type": "code",
   "execution_count": 9,
   "metadata": {
    "collapsed": true
   },
   "outputs": [],
   "source": [
    "selected_features = ['visitor_hist_adr_usd',\n",
    " 'star_diff_from_historic_mean',\n",
    " 'comp1_rate_percent_diff_log',\n",
    " 'srch_query_affinity_score',\n",
    " 'srch_room_count',\n",
    " 'visitor_hist_starrating',\n",
    " 'price_diff_from_historic_mean',\n",
    " 'comp1_rate_percent_diff_signed',\n",
    " 'comp7_rate_percent_diff_signed',\n",
    " 'srch_adults_count',\n",
    " 'prop_brand_bool',\n",
    " 'prop_country_id',\n",
    " 'visitor_location_country_id',\n",
    " 'comp6_rate_percent_diff_signed',\n",
    " 'prop_starrating',\n",
    " 'prop_review_score',\n",
    " 'srch_saturday_night_bool',\n",
    " 'random_bool',\n",
    " 'site_id',\n",
    " 'srch_length_of_stay',\n",
    " 'prop_starrating_monot',\n",
    " 'srch_id',\n",
    " 'orig_destination_distance',\n",
    " 'promotion_flag',\n",
    " 'price_rank',\n",
    " 'star_rank',\n",
    " 'srch_destination_id',\n",
    " 'srch_children_count',\n",
    " 'prop_location_score2_norm',\n",
    " 'prop_location_score1_norm',\n",
    " 'price_usd_norm_srch_id',\n",
    " 'prop_location_score2',\n",
    " 'prop_id',\n",
    " 'prop_location_score_mean',\n",
    " 'srch_booking_window',\n",
    " 'value_for_money_norm_srch_id',\n",
    " 'comp5_inv',\n",
    " 'value_for_money',\n",
    " 'comp_rate_percent_diff_mean',\n",
    " 'prop_log_historical_price',\n",
    " 'price_usd',\n",
    " 'prop_location_score1',\n",
    " 'comp2_inv',\n",
    " 'comp2_rate_percent_diff_signed',\n",
    " 'comp1_inv',\n",
    " 'comp3_inv',\n",
    " 'comp8_inv',\n",
    " 'log_price_usd',\n",
    " 'comp4_inv',\n",
    " 'comp3_rate_percent_diff_signed',\n",
    " 'comp7_inv',\n",
    " 'price_usd_norm_prop_id',\n",
    " 'comp4_rate_percent_diff_signed',\n",
    " 'comp5_rate_percent_diff_signed',\n",
    " 'comp6_inv']\n",
    "\n",
    "\n",
    "TO_DROP=[\n",
    " 'comp1_rate','comp2_rate','comp3_rate','comp4_rate','comp5_rate',\n",
    " 'comp6_rate','comp7_rate','comp8_rate',\n",
    " 'comp6_rate_percent_diff',\n",
    " 'comp4_rate_percent_diff',\n",
    " 'comp7_rate_percent_diff',\n",
    " 'comp1_rate_percent_diff',\n",
    " 'comp3_rate_percent_diff',\n",
    " 'comp2_rate_percent_diff',\n",
    " 'comp8_rate_percent_diff',\n",
    " 'comp5_rate_percent_diff',\n",
    " 'comp1_rate_percent_diff_signed_norm',\n",
    " 'comp2_rate_percent_diff_signed_norm',\n",
    " 'comp4_rate_percent_diff_signed_norm',\n",
    " 'comp8_rate_percent_diff_signed_norm',\n",
    " 'comp3_rate_percent_diff_signed_norm',\n",
    " 'comp5_rate_percent_diff_signed_norm',\n",
    " 'comp6_rate_percent_diff_signed_norm',\n",
    " 'comp7_rate_percent_diff_signed_norm',\n",
    " 'prop_location_score1',\n",
    " 'prop_location_score2']\n",
    "\n",
    "selected_features = list(set(selected_features))\n",
    "TO_DROP = list(set(TO_DROP))\n",
    "\n",
    "for feat in list(TO_DROP):\n",
    "    if feat in selected_features:\n",
    "        selected_features.remove(feat)"
   ]
  },
  {
   "cell_type": "code",
   "execution_count": 10,
   "metadata": {},
   "outputs": [
    {
     "name": "stderr",
     "output_type": "stream",
     "text": [
      "/Users/efiathieniti/miniconda3/envs/py35/lib/python3.5/site-packages/ipykernel_launcher.py:6: DeprecationWarning: \n",
      ".ix is deprecated. Please use\n",
      ".loc for label based indexing or\n",
      ".iloc for positional indexing\n",
      "\n",
      "See the documentation here:\n",
      "http://pandas.pydata.org/pandas-docs/stable/indexing.html#ix-indexer-is-deprecated\n",
      "  \n",
      "/Users/efiathieniti/miniconda3/envs/py35/lib/python3.5/site-packages/ipykernel_launcher.py:7: DeprecationWarning: \n",
      ".ix is deprecated. Please use\n",
      ".loc for label based indexing or\n",
      ".iloc for positional indexing\n",
      "\n",
      "See the documentation here:\n",
      "http://pandas.pydata.org/pandas-docs/stable/indexing.html#ix-indexer-is-deprecated\n",
      "  import sys\n",
      "/Users/efiathieniti/miniconda3/envs/py35/lib/python3.5/site-packages/ipykernel_launcher.py:8: DeprecationWarning: \n",
      ".ix is deprecated. Please use\n",
      ".loc for label based indexing or\n",
      ".iloc for positional indexing\n",
      "\n",
      "See the documentation here:\n",
      "http://pandas.pydata.org/pandas-docs/stable/indexing.html#ix-indexer-is-deprecated\n",
      "  \n"
     ]
    }
   ],
   "source": [
    "features_to_keep = ['booking_bool', 'srch_id', 'click_bool', 'prop_id', 'relevance']\n",
    "selected_features = list(set(set(selected_features).difference(features_to_keep)))\n",
    "all_possible_features = features_to_keep + selected_features\n",
    "\n",
    "all_possible_features = list(set(all_possible_features))\n",
    "df_to_train = train.ix[:,all_possible_features]\n",
    "df_to_val = val.ix[:,all_possible_features]\n",
    "df_to_test = test.ix[:,all_possible_features]\n",
    "\n",
    "\n",
    "\n",
    "#Since we've created a new variable that combined those two, there's no need in keeping them\n",
    "df_to_train.drop(['booking_bool', 'click_bool'], axis = 1)\n",
    "df_to_val.drop(['booking_bool', 'click_bool'], axis = 1)\n",
    "df_to_test.drop(['booking_bool', 'click_bool'], axis = 1)\n",
    "\n",
    "#Rearrange the columns because lambdaMART wants the target variable and the IDs in the first and second column respectively\n",
    "df_to_train = df_to_train[['relevance', 'srch_id', 'prop_id']+selected_features]\n",
    "df_to_val =  df_to_val[['relevance', 'srch_id', 'prop_id']+selected_features]\n",
    "df_to_test =  df_to_test[['relevance', 'srch_id', 'prop_id']+selected_features]\n"
   ]
  },
  {
   "cell_type": "code",
   "execution_count": null,
   "metadata": {
    "collapsed": true
   },
   "outputs": [],
   "source": []
  },
  {
   "cell_type": "markdown",
   "metadata": {},
   "source": [
    "# Downsample majority class"
   ]
  },
  {
   "cell_type": "code",
   "execution_count": 11,
   "metadata": {},
   "outputs": [
    {
     "data": {
      "text/plain": [
       "['comp_rate_percent_diff_mean',\n",
       " 'price_usd_norm_srch_id',\n",
       " 'comp1_rate_percent_diff_log',\n",
       " 'visitor_location_country_id',\n",
       " 'log_price_usd',\n",
       " 'prop_location_score_mean',\n",
       " 'star_rank',\n",
       " 'price_diff_from_historic_mean',\n",
       " 'prop_brand_bool',\n",
       " 'comp8_inv',\n",
       " 'value_for_money_norm_srch_id',\n",
       " 'prop_log_historical_price',\n",
       " 'promotion_flag',\n",
       " 'comp1_inv',\n",
       " 'comp4_rate_percent_diff_signed',\n",
       " 'random_bool',\n",
       " 'prop_country_id',\n",
       " 'prop_starrating',\n",
       " 'price_usd_norm_prop_id',\n",
       " 'price_usd',\n",
       " 'value_for_money',\n",
       " 'srch_booking_window',\n",
       " 'prop_review_score',\n",
       " 'comp4_inv',\n",
       " 'site_id',\n",
       " 'visitor_hist_starrating',\n",
       " 'comp5_inv',\n",
       " 'prop_location_score2_norm',\n",
       " 'price_rank',\n",
       " 'comp3_rate_percent_diff_signed',\n",
       " 'star_diff_from_historic_mean',\n",
       " 'comp7_rate_percent_diff_signed',\n",
       " 'comp5_rate_percent_diff_signed',\n",
       " 'srch_children_count',\n",
       " 'comp3_inv',\n",
       " 'comp6_inv',\n",
       " 'comp7_inv',\n",
       " 'srch_query_affinity_score',\n",
       " 'prop_starrating_monot',\n",
       " 'srch_length_of_stay',\n",
       " 'srch_saturday_night_bool',\n",
       " 'srch_adults_count',\n",
       " 'orig_destination_distance',\n",
       " 'srch_destination_id',\n",
       " 'srch_room_count',\n",
       " 'comp2_inv',\n",
       " 'prop_location_score1_norm',\n",
       " 'comp1_rate_percent_diff_signed',\n",
       " 'visitor_hist_adr_usd',\n",
       " 'comp2_rate_percent_diff_signed',\n",
       " 'comp6_rate_percent_diff_signed']"
      ]
     },
     "execution_count": 11,
     "metadata": {},
     "output_type": "execute_result"
    }
   ],
   "source": [
    "feats = list(df_to_test[selected_features].columns)\n",
    "feats"
   ]
  },
  {
   "cell_type": "code",
   "execution_count": 12,
   "metadata": {},
   "outputs": [],
   "source": [
    "all_na_cols=[]\n",
    "for col in df_to_train[selected_features]:\n",
    "    data = df_to_train[col]\n",
    "    if data.isnull().all(): \n",
    "        print(col)\n",
    "        all_na_cols.append(col)\n",
    "        \n",
    "    "
   ]
  },
  {
   "cell_type": "code",
   "execution_count": 13,
   "metadata": {
    "collapsed": true
   },
   "outputs": [],
   "source": [
    "selected_features=set(selected_features)\n",
    "selected_features = list(selected_features.difference(all_na_cols))"
   ]
  },
  {
   "cell_type": "code",
   "execution_count": null,
   "metadata": {
    "collapsed": true
   },
   "outputs": [],
   "source": [
    "\n"
   ]
  },
  {
   "cell_type": "code",
   "execution_count": 14,
   "metadata": {
    "collapsed": true
   },
   "outputs": [],
   "source": [
    "#From dataframes to arrays\n",
    "trrelevance_arr = np.array(df_to_train['relevance'])\n",
    "trfeature_arr = np.array(df_to_train[selected_features])\n",
    "trid_arr = np.array(df_to_train.srch_id)\n",
    "\n",
    "vrelevance_arr = np.array(df_to_val['relevance'])\n",
    "vfeature_arr = np.array(df_to_val[selected_features])\n",
    "vid_arr = np.array(df_to_val.srch_id)\n",
    "\n",
    "terelevance_arr = np.array(df_to_test['relevance'])\n",
    "tefeature_arr = np.array(df_to_test[selected_features])\n",
    "teid_arr = np.array(df_to_test.srch_id)"
   ]
  },
  {
   "cell_type": "code",
   "execution_count": 28,
   "metadata": {
    "collapsed": true
   },
   "outputs": [],
   "source": [
    "#Choose nDCG as metric (k arbitrary number)\n",
    "metric = pyltr.metrics.NDCG(k=31)\n",
    "\n",
    "#Use validation set, stop_after arbitrary number\n",
    "# Only needed if you want to perform validation (early stopping & trimming)\n",
    "monitor = pyltr.models.monitors.ValidationMonitor(\n",
    "    vfeature_arr, vrelevance_arr, vid_arr, metric=metric, stop_after=300)"
   ]
  },
  {
   "cell_type": "code",
   "execution_count": 29,
   "metadata": {},
   "outputs": [
    {
     "data": {
      "text/plain": [
       "(808002, 51)"
      ]
     },
     "execution_count": 29,
     "metadata": {},
     "output_type": "execute_result"
    }
   ],
   "source": [
    "vfeature_arr.shape"
   ]
  },
  {
   "cell_type": "code",
   "execution_count": 30,
   "metadata": {},
   "outputs": [
    {
     "name": "stdout",
     "output_type": "stream",
     "text": [
      " Iter  Train score    Remaining                           Monitor Output \n",
      "    1       0.7365       21.00m      C:      0.3288 B:      0.3288 S:  0\n",
      "    2       0.7667       18.61m      C:      0.3607 B:      0.3607 S:  0\n",
      "    3       0.7790       17.37m      C:      0.3759 B:      0.3759 S:  0\n",
      "    4       0.7849       16.89m      C:      0.3872 B:      0.3872 S:  0\n",
      "    5       0.7928       16.32m      C:      0.3954 B:      0.3954 S:  0\n",
      "    6       0.7933       15.82m      C:      0.3960 B:      0.3960 S:  0\n",
      "    7       0.7942       15.42m      C:      0.3971 B:      0.3971 S:  0\n",
      "    8       0.7945       15.04m      C:      0.3975 B:      0.3975 S:  0\n",
      "    9       0.7958       14.64m      C:      0.3999 B:      0.3999 S:  0\n",
      "   10       0.8001       14.24m      C:      0.4068 B:      0.4068 S:  0\n",
      "   15       0.8107       12.40m      C:      0.4317 B:      0.4317 S:  0\n",
      "   20       0.8169       10.69m      C:      0.4434 B:      0.4434 S:  0\n",
      "   25       0.8207        8.88m      C:      0.4500 B:      0.4500 S:  0\n",
      "   30       0.8235        7.09m      C:      0.4555 B:      0.4555 S:  0\n",
      "   35       0.8250        5.31m      C:      0.4590 B:      0.4590 S:  0\n",
      "   40       0.8274        3.52m      C:      0.4627 B:      0.4627 S:  0\n",
      "   45       0.8285        1.75m      C:      0.4656 B:      0.4656 S:  0\n",
      "Early termination at iteration  49\n"
     ]
    },
    {
     "data": {
      "text/plain": [
       "<pyltr.models.lambdamart.LambdaMART at 0x1a23702128>"
      ]
     },
     "execution_count": 30,
     "metadata": {},
     "output_type": "execute_result"
    }
   ],
   "source": [
    "#Use lambdaMART - have to find the best values for the parametes\n",
    "n_estimators = 50\n",
    "model = pyltr.models.LambdaMART(\n",
    "    metric=metric,\n",
    "    n_estimators=n_estimators,\n",
    "    learning_rate=learning_rate,\n",
    "    #max_features=0.5,\n",
    "    #query_subsample=0.5,\n",
    "    #max_leaf_nodes=10,\n",
    "    #min_samples_leaf=64,\n",
    "    verbose=1\n",
    ")\n",
    "\n",
    "model.fit(trfeature_arr, trrelevance_arr, trid_arr, monitor=monitor)"
   ]
  },
  {
   "cell_type": "code",
   "execution_count": 31,
   "metadata": {},
   "outputs": [
    {
     "name": "stdout",
     "output_type": "stream",
     "text": [
      "Random ranking: 0.3456619843614616\n",
      "Our model: 0.4693812112890402\n"
     ]
    }
   ],
   "source": [
    "tepred = model.predict(tefeature_arr)\n",
    "print('Random ranking:', metric.calc_mean_random(teid_arr, terelevance_arr))\n",
    "print('Our model:', metric.calc_mean(teid_arr, terelevance_arr, tepred))\n",
    "\n",
    "#Need to add Search and Property IDs to the output (easy)\n"
   ]
  },
  {
   "cell_type": "code",
   "execution_count": null,
   "metadata": {
    "collapsed": true
   },
   "outputs": [],
   "source": []
  },
  {
   "cell_type": "code",
   "execution_count": 34,
   "metadata": {
    "collapsed": true
   },
   "outputs": [],
   "source": [
    "with open('result_statistics.txt', mode='a+') as f:\n",
    "    f.write('%s\\t%s\\t%s\\t%.2f\\t%.2f\\t%.2f\\t%.2f\\t%.2f\\t%.5f\\t%s\\n'%(rand_seed,len(feats), n_estimators, \n",
    "            len(df)/100000,len(df_to_train)/100000, len(df_to_test)/100000,\n",
    "            learning_rate,downsampling_rate, metric.calc_mean(teid_arr, terelevance_arr, tepred), balance_flag)) \n",
    "    "
   ]
  },
  {
   "cell_type": "code",
   "execution_count": 37,
   "metadata": {},
   "outputs": [
    {
     "name": "stdout",
     "output_type": "stream",
     "text": [
      "0.47376791306211796\n"
     ]
    }
   ],
   "source": [
    "from operator import itemgetter\n",
    "nDCG = imp.reload(nDCG)\n",
    "results_df = df_to_test[['srch_id', 'prop_id', 'relevance']].copy()\n",
    "results_df['score'] = -1 * tepred\n",
    "\n",
    "# predictions = list(-1.0*predictions)\n",
    "recommendations = zip(results_df[\"srch_id\"], results_df[\"prop_id\"], results_df['relevance'], results_df['score'])\n",
    "utils.write_submission(recommendations, \"lambdamart_test.csv\")\n",
    "\n",
    "path_results = \"lambdamart_test.csv\"\n",
    "nDCG_result = nDCG.compute_ndcg(path_results)\n",
    "print(nDCG_result)\n",
    "with open('result_statistics_our_nDCG.txt', mode='a+') as f:\n",
    "    f.write('\\%s\\t%s\\t%s\\t%.2f\\t%.2f\\t%.2f\\t%.2f\\t%.2f\\t%.5f\\t%s\\n'%(rand_seed,len(feats), n_estimators, \n",
    "            len(df)/100000,len(df_to_train)/100000, len(df_to_test)/100000,\n",
    "            learning_rate,downsampling_rate, nDCG_result, balance_flag)) \n",
    "    "
   ]
  },
  {
   "cell_type": "code",
   "execution_count": null,
   "metadata": {
    "collapsed": true
   },
   "outputs": [],
   "source": [
    "import pickle\n",
    "model_save = pickle.dumps(model)\n",
    "new_model = pickle.loads(model_save)\n"
   ]
  },
  {
   "cell_type": "code",
   "execution_count": null,
   "metadata": {},
   "outputs": [],
   "source": [
    "ordinals = np.arange(len(df_to_test))\n",
    "np.random.shuffle(ordinals)\n",
    "recommendations = zip(results_df[\"srch_id\"], results_df[\"prop_id\"], results_df['relevance'], ordinals)\n",
    "utils.write_submission(recommendations, \"randomBenchmark_test.csv\")\n",
    "print(ordinals)"
   ]
  },
  {
   "cell_type": "code",
   "execution_count": 77,
   "metadata": {},
   "outputs": [
    {
     "name": "stdout",
     "output_type": "stream",
     "text": [
      "0.354215149966\n"
     ]
    }
   ],
   "source": [
    "path_results = \"Bench_Results/randomBenchmark_test.csv\"\n",
    "print(nDCG.compute_ndcg(path_results))"
   ]
  },
  {
   "cell_type": "code",
   "execution_count": null,
   "metadata": {
    "collapsed": true
   },
   "outputs": [],
   "source": []
  }
 ],
 "metadata": {
  "kernelspec": {
   "display_name": "Python 3",
   "language": "python",
   "name": "python3"
  },
  "language_info": {
   "codemirror_mode": {
    "name": "ipython",
    "version": 3
   },
   "file_extension": ".py",
   "mimetype": "text/x-python",
   "name": "python",
   "nbconvert_exporter": "python",
   "pygments_lexer": "ipython3",
   "version": "3.5.3"
  }
 },
 "nbformat": 4,
 "nbformat_minor": 2
}
