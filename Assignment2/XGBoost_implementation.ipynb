{
 "cells": [
  {
   "cell_type": "markdown",
   "metadata": {},
   "source": [
    "# XGBoost model"
   ]
  },
  {
   "cell_type": "code",
   "execution_count": 12,
   "metadata": {},
   "outputs": [],
   "source": [
    "import pandas as pd\n",
    "import numpy as np\n",
    "import os\n",
    "import csv\n",
    "from operator import itemgetter\n",
    "import xgboost as xgb\n",
    "\n",
    "import matplotlib.pyplot as plt\n",
    "%matplotlib inline\n",
    "\n",
    "import nDCG\n",
    "import utils"
   ]
  },
  {
   "cell_type": "markdown",
   "metadata": {},
   "source": [
    "## Load dataset and choose features"
   ]
  },
  {
   "cell_type": "code",
   "execution_count": 9,
   "metadata": {
    "collapsed": true
   },
   "outputs": [],
   "source": [
    "# load dataset\n",
    "df = pd.read_pickle('cleaned_dataset')\n",
    "\n",
    "# add column with relevance scores\n",
    "df['relevance'] = df['booking_bool'] + df['click_bool']\n",
    "\n",
    "# change relevance column with relevance score (1 if clicked, 5 if booked)\n",
    "df['relevance'] = df['relevance'].map({0:0, 1:1, 2:5})\n",
    "\n",
    "# select features to train model with\n",
    "selected_features = ['site_id', 'visitor_location_country_id',\n",
    "                       'visitor_hist_starrating', 'visitor_hist_adr_usd', 'prop_country_id',\n",
    "                       'prop_starrating', 'prop_review_score', 'prop_brand_bool',\n",
    "                       'prop_location_score1', 'prop_location_score2',\n",
    "                       'prop_log_historical_price', 'price_usd', 'promotion_flag',\n",
    "                       'srch_destination_id', 'srch_length_of_stay', 'srch_booking_window',\n",
    "                       'srch_adults_count', 'srch_children_count', 'srch_room_count',\n",
    "                       'srch_saturday_night_bool', 'srch_query_affinity_score',\n",
    "                       'orig_destination_distance', 'random_bool', 'comp1_rate', 'comp1_inv',\n",
    "                       'comp1_rate_percent_diff', 'comp2_rate', 'comp2_inv',\n",
    "                       'comp2_rate_percent_diff', 'comp3_rate', 'comp3_inv',\n",
    "                       'comp3_rate_percent_diff', 'comp4_rate', 'comp4_inv',\n",
    "                       'comp4_rate_percent_diff', 'comp5_rate', 'comp5_inv',\n",
    "                       'comp5_rate_percent_diff', 'comp6_rate', 'comp6_inv',\n",
    "                       'comp6_rate_percent_diff', 'comp7_rate', 'comp7_inv',\n",
    "                       'comp7_rate_percent_diff', 'comp8_rate', 'comp8_inv',\n",
    "                       'comp8_rate_percent_diff',  'price_diff_from_historic_mean',\n",
    "                       'star_diff_from_historic_mean', 'price_rank', 'star_rank',\n",
    "                       'value_for_money', 'price_usd_normalized']\n",
    "\n",
    "# create new dataframe with predictive features\n",
    "features_to_keep = ['relevance', 'srch_id', 'prop_id', 'booking_bool']\n",
    "all_possible_features = selected_features + features_to_keep\n",
    "df_select = df.loc[:,all_possible_features]\n",
    "\n",
    "# drop NaNs (optional)\n",
    "df_select=df_select.dropna()"
   ]
  },
  {
   "cell_type": "markdown",
   "metadata": {},
   "source": [
    "## Divide dataset in train/validation/test"
   ]
  },
  {
   "cell_type": "code",
   "execution_count": 10,
   "metadata": {},
   "outputs": [],
   "source": [
    "# create list of ids in random order\n",
    "id_list = df.srch_id.unique()\n",
    "np.random.shuffle(id_list)\n",
    "\n",
    "# for reproducibility \n",
    "rand_seed = 3000\n",
    "np.random.seed(rand_seed)\n",
    "\n",
    "# training - test fraction is 80/20\n",
    "id_train = int(len(id_list) * 0.8)\n",
    "training_id = id_list[:id_train]\n",
    "test_id = id_list[id_train:]\n",
    "\n",
    "# divide dataset in test and training set\n",
    "train_data = df_select.loc[df.srch_id.isin(training_id)]\n",
    "test_data = df_select.loc[df.srch_id.isin(test_id)]"
   ]
  },
  {
   "cell_type": "markdown",
   "metadata": {},
   "source": [
    "## Downsampling"
   ]
  },
  {
   "cell_type": "code",
   "execution_count": 16,
   "metadata": {},
   "outputs": [
    {
     "data": {
      "image/png": "[encoded data removed]",
      "text/plain": [
       "<matplotlib.figure.Figure at 0x7f95a0065eb8>"
      ]
     },
     "metadata": {},
     "output_type": "display_data"
    }
   ],
   "source": [
    "# choose whether to balance training data\n",
    "balance_flag = True\n",
    "downsampling_rate = 3\n",
    "if balance_flag:\n",
    "    train_data = utils.balance_dataset(train_data, downsampling_rate)\n",
    "\n",
    "## What does this graph show?"
   ]
  },
  {
   "cell_type": "markdown",
   "metadata": {},
   "source": [
    "## Training the model"
   ]
  },
  {
   "cell_type": "code",
   "execution_count": 21,
   "metadata": {},
   "outputs": [],
   "source": [
    "# read in data\n",
    "dtrain = xgb.DMatrix('train.txt')\n",
    "dtest = xgb.DMatrix('test.txt')\n",
    "\n",
    "# specify parameters via map\n",
    "param = {'max_depth':2, 'eta':1, 'silent':1, 'objective':'binary:logistic' }\n",
    "num_round = 2\n",
    "bst = xgb.train(param, dtrain, num_round)\n",
    "\n",
    "# make prediction\n",
    "preds = bst.predict(dtest)"
   ]
  },
  {
   "cell_type": "code",
   "execution_count": 22,
   "metadata": {},
   "outputs": [
    {
     "data": {
      "text/plain": [
       "array([ 0.28583017,  0.92392391,  0.28583017, ...,  0.92392391,\n",
       "        0.05169873,  0.92392391], dtype=float32)"
      ]
     },
     "execution_count": 22,
     "metadata": {},
     "output_type": "execute_result"
    }
   ],
   "source": [
    "preds"
   ]
  },
  {
   "cell_type": "code",
   "execution_count": null,
   "metadata": {
    "collapsed": true
   },
   "outputs": [],
   "source": []
  }
 ],
 "metadata": {
  "kernelspec": {
   "display_name": "Python 3",
   "language": "python",
   "name": "python3"
  },
  "language_info": {
   "codemirror_mode": {
    "name": "ipython",
    "version": 3
   },
   "file_extension": ".py",
   "mimetype": "text/x-python",
   "name": "python",
   "nbconvert_exporter": "python",
   "pygments_lexer": "ipython3",
   "version": "3.6.1"
  }
 },
 "nbformat": 4,
 "nbformat_minor": 2
}
