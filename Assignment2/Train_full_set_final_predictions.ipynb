{
 "cells": [
  {
   "cell_type": "markdown",
   "metadata": {},
   "source": [
    "# Training of full dataset and final predictions"
   ]
  },
  {
   "cell_type": "code",
   "execution_count": 1,
   "metadata": {
    "collapsed": true
   },
   "outputs": [],
   "source": [
    "import numpy as np \n",
    "import pandas as pd \n",
    "import matplotlib.pyplot as plt\n",
    "import pyltr\n",
    "import utils\n",
    "from operator import itemgetter\n",
    "import csv\n",
    "import pickle\n",
    "import nDCG\n"
   ]
  },
  {
   "cell_type": "markdown",
   "metadata": {},
   "source": [
    "## Training settings"
   ]
  },
  {
   "cell_type": "code",
   "execution_count": 2,
   "metadata": {
    "collapsed": true
   },
   "outputs": [],
   "source": [
    "balance_flag = True\n",
    "downsampling_rate = 3\n",
    "learning_rate = 0.1\n"
   ]
  },
  {
   "cell_type": "markdown",
   "metadata": {},
   "source": [
    "## Load dataset and downsampling"
   ]
  },
  {
   "cell_type": "code",
   "execution_count": null,
   "metadata": {
    "collapsed": true
   },
   "outputs": [],
   "source": []
  },
  {
   "cell_type": "code",
   "execution_count": 18,
   "metadata": {
    "collapsed": true
   },
   "outputs": [],
   "source": [
    "# Choose from 0, 1, 2 ,3\n",
    "\n",
    "# read datasets from correct path\n",
    "k=0 \n",
    "train = pd.read_pickle(\"train_final_0\")\n",
    "val = pd.read_pickle(\"val_final_0\")\n",
    "test = pd.read_pickle(\"test_final_0\")\n",
    "\n"
   ]
  },
  {
   "cell_type": "code",
   "execution_count": 19,
   "metadata": {
    "collapsed": true
   },
   "outputs": [],
   "source": [
    "use_full_test = True\n",
    "# Merge test file\n",
    "if use_full_test:\n",
    "    df1=pd.read_pickle('test_cleaned_dataset_part1_fix4000000head_save')\n",
    "    df1tail = pd.read_pickle('test_cleaned_dataset_part1_fix4000000tail_save')\n",
    "    d1 = pd.concat([df1,df1tail], axis=0)\n",
    "\n",
    "    df2=pd.read_pickle('test_cleaned_dataset_part2_fix4000000head_save')\n",
    "    df2tail = pd.read_pickle('test_cleaned_dataset_part2_fix4000000tail_save')\n",
    "    d2 = pd.concat([df2,df2tail], axis=0)\n",
    "\n",
    "    df_test = pd.concat([d1,d2], axis=1)\n",
    "\n",
    "    test = df_test\n",
    "\n",
    "    \n",
    "\n"
   ]
  },
  {
   "cell_type": "code",
   "execution_count": 20,
   "metadata": {},
   "outputs": [
    {
     "data": {
      "image/png": "[encoded data removed]",
      "text/plain": [
       "<matplotlib.figure.Figure at 0x1a1773de10>"
      ]
     },
     "metadata": {},
     "output_type": "display_data"
    }
   ],
   "source": [
    "train['relevance'].hist()\n",
    "plt.title('Relevance class proportions before downsampling')\n",
    "plt.show()\n",
    "\n",
    "\n",
    "# balance the dataset, much faster training\n",
    "if balance_flag:\n",
    "    train = utils.balance_dataset(train,downsampling_rate)"
   ]
  },
  {
   "cell_type": "code",
   "execution_count": 21,
   "metadata": {
    "collapsed": true
   },
   "outputs": [],
   "source": [
    "# Efi's code for data cleaning\n",
    "train.shape\n",
    "selected_features = utils.define_features()\n",
    "\n"
   ]
  },
  {
   "cell_type": "code",
   "execution_count": 22,
   "metadata": {},
   "outputs": [
    {
     "name": "stderr",
     "output_type": "stream",
     "text": [
      "/Users/efiathieniti/miniconda3/envs/py35/lib/python3.5/site-packages/ipykernel_launcher.py:7: DeprecationWarning: \n",
      ".ix is deprecated. Please use\n",
      ".loc for label based indexing or\n",
      ".iloc for positional indexing\n",
      "\n",
      "See the documentation here:\n",
      "http://pandas.pydata.org/pandas-docs/stable/indexing.html#ix-indexer-is-deprecated\n",
      "  import sys\n",
      "/Users/efiathieniti/miniconda3/envs/py35/lib/python3.5/site-packages/ipykernel_launcher.py:8: DeprecationWarning: \n",
      ".ix is deprecated. Please use\n",
      ".loc for label based indexing or\n",
      ".iloc for positional indexing\n",
      "\n",
      "See the documentation here:\n",
      "http://pandas.pydata.org/pandas-docs/stable/indexing.html#ix-indexer-is-deprecated\n",
      "  \n",
      "/Users/efiathieniti/miniconda3/envs/py35/lib/python3.5/site-packages/ipykernel_launcher.py:9: DeprecationWarning: \n",
      ".ix is deprecated. Please use\n",
      ".loc for label based indexing or\n",
      ".iloc for positional indexing\n",
      "\n",
      "See the documentation here:\n",
      "http://pandas.pydata.org/pandas-docs/stable/indexing.html#ix-indexer-is-deprecated\n",
      "  if __name__ == '__main__':\n",
      "/Users/efiathieniti/miniconda3/envs/py35/lib/python3.5/site-packages/pandas/core/indexing.py:116: FutureWarning: \n",
      "Passing list-likes to .loc or [] with any missing label will raise\n",
      "KeyError in the future, you can use .reindex() as an alternative.\n",
      "\n",
      "See the documentation here:\n",
      "https://pandas.pydata.org/pandas-docs/stable/indexing.html#deprecate-loc-reindex-listlike\n",
      "  return self._getitem_tuple(key)\n"
     ]
    }
   ],
   "source": [
    "features_to_keep = ['booking_bool', 'srch_id', 'click_bool', 'prop_id', 'relevance']\n",
    "selected_features = list(set(set(selected_features).difference(features_to_keep)))\n",
    "\n",
    "all_possible_features = features_to_keep + selected_features\n",
    "\n",
    "all_possible_features = list(set(all_possible_features))\n",
    "df_to_train = train.ix[:,all_possible_features]\n",
    "df_to_val = val.ix[:,all_possible_features]\n",
    "df_to_test = test.ix[:,all_possible_features]\n",
    "\n",
    "# since we've created a new variable that combined those two, there's no need in keeping them\n",
    "df_to_train.drop(['booking_bool', 'click_bool'], axis = 1)\n",
    "df_to_val.drop(['booking_bool', 'click_bool'], axis = 1)\n",
    "df_to_test.drop(['booking_bool', 'click_bool'], axis = 1)\n",
    "\n",
    "# rearrange the columns because lambdaMART wants the target variable and the IDs in the first and second column respectively\n",
    "df_to_train = df_to_train[['relevance', 'srch_id', 'prop_id']+selected_features]\n",
    "df_to_val =  df_to_val[['relevance', 'srch_id', 'prop_id']+selected_features]\n",
    "df_to_test =  df_to_test[['relevance', 'srch_id', 'prop_id']+selected_features]"
   ]
  },
  {
   "cell_type": "code",
   "execution_count": 23,
   "metadata": {},
   "outputs": [
    {
     "name": "stdout",
     "output_type": "stream",
     "text": [
      "(477872, 63) (4959183, 63)\n"
     ]
    }
   ],
   "source": [
    "print(df_to_train.shape, df_to_test.shape)"
   ]
  },
  {
   "cell_type": "code",
   "execution_count": 24,
   "metadata": {},
   "outputs": [
    {
     "data": {
      "text/plain": [
       "48818"
      ]
     },
     "execution_count": 24,
     "metadata": {},
     "output_type": "execute_result"
    }
   ],
   "source": [
    "len(set(df_to_test.prop_id).difference(set(df_to_train.prop_id)))"
   ]
  },
  {
   "cell_type": "code",
   "execution_count": 25,
   "metadata": {},
   "outputs": [
    {
     "data": {
      "text/plain": [
       "booking_bool                                  False\n",
       "srch_id                                       False\n",
       "click_bool                                    False\n",
       "prop_id                                       False\n",
       "relevance                                     False\n",
       "prop_location_score2_norm                     False\n",
       "price_usd_norm_srch_destination_id            False\n",
       "site_id                                       False\n",
       "srch_children_count_norm_srch_id               True\n",
       "price_usd                                     False\n",
       "prop_location_score2_norm_srch_id             False\n",
       "value_for_money_norm_srch_destination_id      False\n",
       "prop_log_historical_price                     False\n",
       "comp5_rate_percent_diff_signed                False\n",
       "srch_saturday_night_bool                      False\n",
       "price_usd_log                                 False\n",
       "price_rank                                    False\n",
       "srch_booking_window                           False\n",
       "price_usd_norm_prop_id                        False\n",
       "prop_location_score1_norm                     False\n",
       "price_usd_norm_srch_id                        False\n",
       "price_usd_norm_srch_saturday_night_bool       False\n",
       "price_diff_from_historic_mean                 False\n",
       "visitor_location_country_id                   False\n",
       "prop_starrating_monot                         False\n",
       "comp6_rate_percent_diff_signed                False\n",
       "comp7_rate_percent_diff_signed                False\n",
       "prop_location_score1_norm_srch_id             False\n",
       "srch_destination_id                           False\n",
       "orig_destination_distance                     False\n",
       "                                              ...  \n",
       "value_for_money_norm_srch_id                  False\n",
       "srch_adults_count                             False\n",
       "srch_query_affinity_score_norm_srch_id        False\n",
       "month                                         False\n",
       "prop_review_score_norm_srch_id                False\n",
       "srch_query_affinity_score                     False\n",
       "star_rank                                     False\n",
       "value_for_money_star                          False\n",
       "comp8_rate_percent_diff_signed                False\n",
       "visitor_hist_starrating                       False\n",
       "prop_starrating                               False\n",
       "srch_children_count                           False\n",
       "prop_location_score_mean                      False\n",
       "promotion_flag                                False\n",
       "prop_country_id                               False\n",
       "visitor_hist_adr_usd                          False\n",
       "random_bool                                   False\n",
       "prop_brand_bool                               False\n",
       "value_for_money                               False\n",
       "comp_rate_percent_diff_mean                   False\n",
       "comp6_inv                                     False\n",
       "star_diff_from_historic_mean                  False\n",
       "value_for_money_star_norm_srch_id             False\n",
       "comp7_inv                                     False\n",
       "prop_review_score_norm_srch_destination_id    False\n",
       "srch_adults_count_norm_srch_id                 True\n",
       "comp1_rate_percent_diff_log                   False\n",
       "comp5_inv                                     False\n",
       "comp3_rate_percent_diff_signed                False\n",
       "comp2_inv                                     False\n",
       "Length: 67, dtype: bool"
      ]
     },
     "execution_count": 25,
     "metadata": {},
     "output_type": "execute_result"
    }
   ],
   "source": [
    "train.isnull().all()"
   ]
  },
  {
   "cell_type": "markdown",
   "metadata": {},
   "source": [
    "## Prepare dataset for model"
   ]
  },
  {
   "cell_type": "code",
   "execution_count": 26,
   "metadata": {
    "collapsed": true
   },
   "outputs": [],
   "source": [
    "#From dataframes to arrays\n",
    "trrelevance_arr = np.array(df_to_train['relevance'])\n",
    "trfeature_arr = np.array(df_to_train[selected_features])\n",
    "trid_arr = np.array(df_to_train.srch_id)\n",
    "\n",
    "vrelevance_arr = np.array(df_to_val['relevance'])\n",
    "vfeature_arr = np.array(df_to_val[selected_features])\n",
    "vid_arr = np.array(df_to_val.srch_id)\n",
    "\n",
    "terelevance_arr = np.array(df_to_test['relevance'])\n",
    "tefeature_arr = np.array(df_to_test[selected_features])\n",
    "teid_arr = np.array(df_to_test.srch_id)"
   ]
  },
  {
   "cell_type": "markdown",
   "metadata": {},
   "source": [
    "## Run LambdaMART model"
   ]
  },
  {
   "cell_type": "code",
   "execution_count": 13,
   "metadata": {},
   "outputs": [
    {
     "name": "stdout",
     "output_type": "stream",
     "text": [
      " Iter  Train score    Remaining                           Monitor Output \n",
      "    1       0.7718       56.48m      C:      0.3686 B:      0.3686 S:  0\n",
      "    2       0.7880       48.93m      C:      0.3983 B:      0.3983 S:  0\n",
      "    3       0.7920       46.62m      C:      0.4045 B:      0.4045 S:  0\n",
      "    4       0.7983       44.75m      C:      0.4155 B:      0.4155 S:  0\n",
      "    5       0.8041       43.52m      C:      0.4282 B:      0.4282 S:  0\n",
      "    6       0.8099       42.69m      C:      0.4390 B:      0.4390 S:  0\n",
      "    7       0.8142       42.03m      C:      0.4443 B:      0.4443 S:  0\n",
      "    8       0.8173       42.19m      C:      0.4499 B:      0.4499 S:  0\n",
      "    9       0.8193       41.64m      C:      0.4534 B:      0.4534 S:  0\n",
      "   10       0.8221       40.82m      C:      0.4573 B:      0.4573 S:  0\n",
      "   15       0.8308       37.66m      C:      0.4744 B:      0.4744 S:  0\n",
      "   20       0.8344       35.57m      C:      0.4813 B:      0.4813 S:  0\n",
      "   25       0.8370       33.86m      C:      0.4854 B:      0.4854 S:  0\n",
      "   30       0.8388       31.42m      C:      0.4881 B:      0.4881 S:  0\n",
      "   35       0.8402       29.10m      C:      0.4904 B:      0.4904 S:  0\n",
      "   40       0.8413       26.82m      C:      0.4921 B:      0.4921 S:  0\n",
      "   45       0.8421       24.36m      C:      0.4936 B:      0.4936 S:  0\n",
      "   50       0.8431       21.97m      C:      0.4953 B:      0.4953 S:  0\n",
      "   60       0.8444       17.49m      C:      0.4970 B:      0.4970 S:  0\n",
      "   70       0.8456       13.17m      C:      0.4987 B:      0.4987 S:  0\n",
      "   80       0.8463        8.71m      C:      0.4994 B:      0.4994 S:  0\n",
      "   90       0.8471        4.32m      C:      0.5006 B:      0.5006 S:  0\n",
      "Early termination at iteration  99\n"
     ]
    },
    {
     "data": {
      "text/plain": [
       "<pyltr.models.lambdamart.LambdaMART at 0x1a1b71ef60>"
      ]
     },
     "execution_count": 13,
     "metadata": {},
     "output_type": "execute_result"
    }
   ],
   "source": [
    "#Choose nDCG as metric (k arbitrary number)\n",
    "metric = pyltr.metrics.NDCG(k=31)\n",
    "\n",
    "#Use validation set, stop_after arbitrary number\n",
    "# Only needed if you want to perform validation (early stopping & trimming)\n",
    "monitor = pyltr.models.monitors.ValidationMonitor(\n",
    "    vfeature_arr, vrelevance_arr, vid_arr, metric=metric, stop_after=300)\n",
    "\n",
    "feats = list(df_to_test[selected_features].columns)\n",
    "feats\n",
    "\n",
    "#Use lambdaMART - have to find the best values for the parametes\n",
    "n_estimators = 100\n",
    "min_samples_leaf=64\n",
    "model = pyltr.models.LambdaMART(\n",
    "    metric=metric,\n",
    "    n_estimators=n_estimators,\n",
    "    learning_rate=learning_rate,\n",
    "    #max_features=0.5,\n",
    "    #query_subsample=0.5,\n",
    "    #max_leaf_nodes=10,\n",
    "    min_samples_leaf=min_samples_leaf,\n",
    "    verbose=1\n",
    ")\n",
    "\n",
    "\n",
    "model.fit(trfeature_arr, trrelevance_arr, trid_arr, monitor=monitor)\n",
    "\n",
    "\n"
   ]
  },
  {
   "cell_type": "code",
   "execution_count": 16,
   "metadata": {},
   "outputs": [
    {
     "data": {
      "text/plain": [
       "['model100_final.pkl']"
      ]
     },
     "execution_count": 16,
     "metadata": {},
     "output_type": "execute_result"
    }
   ],
   "source": [
    "\n",
    "from sklearn.externals import joblib\n",
    "model_fname = \"model\" + str(n_estimators) + \"_final.pkl\"\n",
    "joblib.dump(model, model_fname) "
   ]
  },
  {
   "cell_type": "markdown",
   "metadata": {},
   "source": [
    "## Predict"
   ]
  },
  {
   "cell_type": "code",
   "execution_count": 15,
   "metadata": {},
   "outputs": [
    {
     "name": "stdout",
     "output_type": "stream",
     "text": [
      "Random ranking: 0.3445702174030487\n",
      "Our model: 0.49625661756673056\n",
      "0.4970265819754685\n"
     ]
    }
   ],
   "source": [
    "use_loaded_model = False\n",
    "if use_loaded_model:\n",
    "    model = joblib.load(model_fname)   \n",
    "\n",
    "if not use_full_test:\n",
    "    tepred = model.predict(tefeature_arr)\n",
    "    print('Random ranking:', metric.calc_mean_random(teid_arr, terelevance_arr))\n",
    "    print('Our model:', metric.calc_mean(teid_arr, terelevance_arr, tepred))\n",
    "\n",
    "    rand_seed=0\n",
    "\n",
    "\n",
    "\n",
    "    all_n = (len(df_to_train)+len(df_to_test) + len(df_to_val))/100000\n",
    "    #Need to add Search and Property IDs to the output (easy)\n",
    "    with open('result_statistics_final.txt', mode='a+') as f:\n",
    "        f.write('%s\\t%s\\t%s\\t%s\\t%.2f\\t%.2f\\t%.2f\\t%.2f\\t%.2f\\t%.5f\\t%s\\t%.0f\\t'%(k,rand_seed,len(feats), n_estimators, \n",
    "                all_n,len(df_to_train)/100000, len(df_to_test)/100000,\n",
    "                learning_rate,downsampling_rate, metric.calc_mean(teid_arr, terelevance_arr, tepred), balance_flag, min_samples_leaf)) \n",
    "\n",
    "\n",
    "    results_df = df_to_test[['srch_id', 'prop_id', 'relevance']].copy()\n",
    "    results_df['score'] = -1 * tepred\n",
    "\n",
    "    # predictions = list(-1.0*predictions)\n",
    "    recommendations = zip(results_df[\"srch_id\"], results_df[\"prop_id\"], results_df['relevance'], results_df['score'])\n",
    "    utils.write_submission(recommendations, \"lambdamart_test.csv\")\n",
    "\n",
    "    path_results = \"lambdamart_test.csv\"\n",
    "    nDCG_result = nDCG.compute_ndcg(path_results)\n",
    "    print(nDCG_result)\n",
    "    with open('result_statistics_our_nDCG_final.txt', mode='a+') as f:\n",
    "        f.write('%s\\t%s\\t%s\\t%s\\t%.2f\\t%.2f\\t%.2f\\t%.2f\\t%.2f\\t%.5f\\t%s\\t%.0f\\t'%(k,rand_seed,len(feats), n_estimators, \n",
    "                all_n,len(df_to_train)/100000, len(df_to_test)/100000,\n",
    "                learning_rate,downsampling_rate, nDCG_result, balance_flag, min_samples_leaf)) \n",
    "\n",
    "\n"
   ]
  },
  {
   "cell_type": "markdown",
   "metadata": {},
   "source": [
    "## Make predictions for final set"
   ]
  },
  {
   "cell_type": "code",
   "execution_count": 28,
   "metadata": {},
   "outputs": [],
   "source": [
    "# this is another write_submission than previously, we dont have relevance anymore\n",
    "if use_full_test:\n",
    "    tepred = model.predict(tefeature_arr)\n",
    "    results_df = df_to_test[['srch_id', 'prop_id']].copy()\n",
    "    results_df['score'] = -1* tepred\n",
    "\n",
    "    def write_submission(recommendations, submission_file):\n",
    "        \"\"\"\n",
    "        Function which writes submission, ordered on the probability obtained by the model.\n",
    "        The columns are SearchId, PropertyId and Relevance    \n",
    "        \"\"\"\n",
    "\n",
    "        global rows\n",
    "        submission_path = submission_file\n",
    "        rows = [(srch_id, int(prop_id))\n",
    "            for srch_id, prop_id, rank_float\n",
    "            in sorted(recommendations, key=itemgetter(0,2))]\n",
    "        writer = csv.writer(open(submission_path, \"w\"), lineterminator=\"\\n\")\n",
    "        writer.writerow((\"SearchId\", \"PropertyId\"))\n",
    "        writer.writerows(rows)\n",
    "\n",
    "    # predictions = list(-1.0*predictions)\n",
    "    recommendations = zip(results_df[\"srch_id\"], results_df[\"prop_id\"], results_df['score'])\n",
    "    path_results = \"final_prediction_file_fixed_to_submit.csv\"\n",
    "\n",
    "    write_submission(recommendations, path_results)\n",
    "\n"
   ]
  },
  {
   "cell_type": "code",
   "execution_count": null,
   "metadata": {
    "collapsed": true
   },
   "outputs": [],
   "source": []
  },
  {
   "cell_type": "code",
   "execution_count": null,
   "metadata": {
    "collapsed": true
   },
   "outputs": [],
   "source": []
  }
 ],
 "metadata": {
  "kernelspec": {
   "display_name": "Python 3",
   "language": "python",
   "name": "python3"
  },
  "language_info": {
   "codemirror_mode": {
    "name": "ipython",
    "version": 3
   },
   "file_extension": ".py",
   "mimetype": "text/x-python",
   "name": "python",
   "nbconvert_exporter": "python",
   "pygments_lexer": "ipython3",
   "version": "3.5.3"
  }
 },
 "nbformat": 4,
 "nbformat_minor": 2
}
