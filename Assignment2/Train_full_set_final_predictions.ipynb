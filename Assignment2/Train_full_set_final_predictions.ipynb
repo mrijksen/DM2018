{
 "cells": [
  {
   "cell_type": "markdown",
   "metadata": {},
   "source": [
    "# Training of full dataset and final predictions"
   ]
  },
  {
   "cell_type": "code",
   "execution_count": 13,
   "metadata": {
    "collapsed": true
   },
   "outputs": [],
   "source": [
    "import numpy as np \n",
    "import pandas as pd \n",
    "import matplotlib.pyplot as plt\n",
    "import pyltr\n",
    "import utils\n",
    "from operator import itemgetter\n",
    "import csv\n",
    "import pickle\n",
    "import nDCG\n"
   ]
  },
  {
   "cell_type": "markdown",
   "metadata": {},
   "source": [
    "## Training settings"
   ]
  },
  {
   "cell_type": "code",
   "execution_count": 14,
   "metadata": {
    "collapsed": true
   },
   "outputs": [],
   "source": [
    "balance_flag = True\n",
    "downsampling_rate = 5\n",
    "learning_rate = 0.1\n"
   ]
  },
  {
   "cell_type": "markdown",
   "metadata": {},
   "source": [
    "## Load dataset and downsampling"
   ]
  },
  {
   "cell_type": "code",
   "execution_count": null,
   "metadata": {
    "collapsed": true
   },
   "outputs": [],
   "source": []
  },
  {
   "cell_type": "code",
   "execution_count": 15,
   "metadata": {
    "collapsed": true
   },
   "outputs": [],
   "source": [
    "# Choose from 0, 1, 2 ,3\n",
    "\n",
    "# read datasets from correct path\n",
    "k=0 \n",
    "train = pd.read_pickle(\"train_final_0\")\n",
    "val = pd.read_pickle(\"val_final_0\")\n",
    "test = pd.read_pickle(\"test_final_0\")\n",
    "\n"
   ]
  },
  {
   "cell_type": "code",
   "execution_count": 16,
   "metadata": {},
   "outputs": [],
   "source": [
    "use_full_test = False\n",
    "# Merge test file\n",
    "if use_full_test:\n",
    "    df1=pd.read_pickle('test_cleaned_dataset_part14000000')\n",
    "    df1tail = pd.read_pickle('test_cleaned_dataset_part14000000tail')\n",
    "    d1 = pd.concat([df1,df1tail], axis=0)\n",
    "\n",
    "    df2=pd.read_pickle('test_cleaned_dataset_part24000000')\n",
    "    df2tail = pd.read_pickle('test_cleaned_dataset_part24000000tail')\n",
    "    d2 = pd.concat([df2,df2tail], axis=0)\n",
    "\n",
    "    df_test = pd.concat([d1,d2], axis=1)\n",
    "\n",
    "    test = df_test"
   ]
  },
  {
   "cell_type": "code",
   "execution_count": 17,
   "metadata": {},
   "outputs": [
    {
     "data": {
      "image/png": "[encoded data removed]",
      "text/plain": [
       "<matplotlib.figure.Figure at 0x10c8d6400>"
      ]
     },
     "metadata": {},
     "output_type": "display_data"
    }
   ],
   "source": [
    "train['relevance'].hist()\n",
    "plt.title('Relevance class proportions before downsampling')\n",
    "plt.show()\n",
    "\n",
    "\n",
    "# balance the dataset, much faster training\n",
    "if balance_flag:\n",
    "    train = utils.balance_dataset(train,downsampling_rate)"
   ]
  },
  {
   "cell_type": "code",
   "execution_count": 18,
   "metadata": {
    "collapsed": true
   },
   "outputs": [],
   "source": [
    "# Efi's code for data cleaning\n",
    "train.shape\n",
    "selected_features = utils.define_features()"
   ]
  },
  {
   "cell_type": "code",
   "execution_count": 19,
   "metadata": {},
   "outputs": [
    {
     "name": "stderr",
     "output_type": "stream",
     "text": [
      "/Users/efiathieniti/miniconda3/envs/py35/lib/python3.5/site-packages/ipykernel_launcher.py:6: DeprecationWarning: \n",
      ".ix is deprecated. Please use\n",
      ".loc for label based indexing or\n",
      ".iloc for positional indexing\n",
      "\n",
      "See the documentation here:\n",
      "http://pandas.pydata.org/pandas-docs/stable/indexing.html#ix-indexer-is-deprecated\n",
      "  \n",
      "/Users/efiathieniti/miniconda3/envs/py35/lib/python3.5/site-packages/ipykernel_launcher.py:7: DeprecationWarning: \n",
      ".ix is deprecated. Please use\n",
      ".loc for label based indexing or\n",
      ".iloc for positional indexing\n",
      "\n",
      "See the documentation here:\n",
      "http://pandas.pydata.org/pandas-docs/stable/indexing.html#ix-indexer-is-deprecated\n",
      "  import sys\n",
      "/Users/efiathieniti/miniconda3/envs/py35/lib/python3.5/site-packages/ipykernel_launcher.py:8: DeprecationWarning: \n",
      ".ix is deprecated. Please use\n",
      ".loc for label based indexing or\n",
      ".iloc for positional indexing\n",
      "\n",
      "See the documentation here:\n",
      "http://pandas.pydata.org/pandas-docs/stable/indexing.html#ix-indexer-is-deprecated\n",
      "  \n"
     ]
    }
   ],
   "source": [
    "features_to_keep = ['booking_bool', 'srch_id', 'click_bool', 'prop_id', 'relevance']\n",
    "selected_features = list(set(set(selected_features).difference(features_to_keep)))\n",
    "all_possible_features = features_to_keep + selected_features\n",
    "\n",
    "all_possible_features = list(set(all_possible_features))\n",
    "df_to_train = train.ix[:,all_possible_features]\n",
    "df_to_val = val.ix[:,all_possible_features]\n",
    "df_to_test = test.ix[:,all_possible_features]\n",
    "\n",
    "# since we've created a new variable that combined those two, there's no need in keeping them\n",
    "df_to_train.drop(['booking_bool', 'click_bool'], axis = 1)\n",
    "df_to_val.drop(['booking_bool', 'click_bool'], axis = 1)\n",
    "df_to_test.drop(['booking_bool', 'click_bool'], axis = 1)\n",
    "\n",
    "# rearrange the columns because lambdaMART wants the target variable and the IDs in the first and second column respectively\n",
    "df_to_train = df_to_train[['relevance', 'srch_id', 'prop_id']+selected_features]\n",
    "df_to_val =  df_to_val[['relevance', 'srch_id', 'prop_id']+selected_features]\n",
    "df_to_test =  df_to_test[['relevance', 'srch_id', 'prop_id']+selected_features]"
   ]
  },
  {
   "cell_type": "code",
   "execution_count": 20,
   "metadata": {},
   "outputs": [
    {
     "name": "stdout",
     "output_type": "stream",
     "text": [
      "(683253, 65) (244162, 65)\n"
     ]
    }
   ],
   "source": [
    "print(df_to_train.shape, df_to_test.shape)"
   ]
  },
  {
   "cell_type": "code",
   "execution_count": 21,
   "metadata": {},
   "outputs": [
    {
     "data": {
      "text/plain": [
       "['comp3_rate_percent_diff_signed',\n",
       " 'prop_review_score_norm_srch_id',\n",
       " 'prop_location_score_mean',\n",
       " 'price_usd_norm_srch_destination_id',\n",
       " 'promotion_flag',\n",
       " 'value_for_money_star',\n",
       " 'value_for_money_norm_srch_id',\n",
       " 'comp7_rate_percent_diff_signed',\n",
       " 'orig_destination_distance',\n",
       " 'random_bool',\n",
       " 'srch_adults_count',\n",
       " 'prop_starrating_monot',\n",
       " 'visitor_hist_starrating',\n",
       " 'srch_room_count',\n",
       " 'comp6_inv',\n",
       " 'prop_location_score2_norm_srch_id',\n",
       " 'prop_log_historical_price',\n",
       " 'comp5_inv',\n",
       " 'prop_review_score',\n",
       " 'prop_starrating',\n",
       " 'price_usd_norm_srch_id',\n",
       " 'prop_brand_bool',\n",
       " 'srch_children_count',\n",
       " 'comp1_rate_percent_diff_signed',\n",
       " 'srch_booking_window',\n",
       " 'price_rank',\n",
       " 'prop_location_score2_norm',\n",
       " 'value_for_money_star_norm_srch_destination_id',\n",
       " 'star_diff_from_historic_mean',\n",
       " 'srch_destination_id',\n",
       " 'price_usd_norm_prop_id',\n",
       " 'srch_query_affinity_score_norm_srch_id',\n",
       " 'price_usd_norm_srch_saturday_night_bool',\n",
       " 'price_usd_log',\n",
       " 'comp6_rate_percent_diff_signed',\n",
       " 'prop_starrating_norm_srch_destination_id',\n",
       " 'comp5_rate_percent_diff_signed',\n",
       " 'prop_review_score_norm_srch_destination_id',\n",
       " 'prop_country_id',\n",
       " 'value_for_money_star_norm_srch_id',\n",
       " 'visitor_hist_adr_usd',\n",
       " 'prop_location_score1_norm',\n",
       " 'srch_saturday_night_bool',\n",
       " 'comp1_rate_percent_diff_log',\n",
       " 'prop_location_score1_norm_srch_id',\n",
       " 'site_id',\n",
       " 'month',\n",
       " 'price_diff_from_historic_mean',\n",
       " 'srch_children_count_norm_srch_id',\n",
       " 'price_usd',\n",
       " 'comp_rate_percent_diff_mean',\n",
       " 'comp7_inv',\n",
       " 'value_for_money_norm_srch_destination_id',\n",
       " 'value_for_money',\n",
       " 'visitor_location_country_id',\n",
       " 'comp8_rate_percent_diff_signed',\n",
       " 'prop_log_historical_price_norm_srch_id',\n",
       " 'srch_length_of_stay',\n",
       " 'comp2_inv',\n",
       " 'srch_query_affinity_score',\n",
       " 'srch_adults_count_norm_srch_id',\n",
       " 'star_rank']"
      ]
     },
     "execution_count": 21,
     "metadata": {},
     "output_type": "execute_result"
    }
   ],
   "source": [
    "selected_features"
   ]
  },
  {
   "cell_type": "markdown",
   "metadata": {},
   "source": [
    "## Prepare dataset for model"
   ]
  },
  {
   "cell_type": "code",
   "execution_count": 22,
   "metadata": {
    "collapsed": true
   },
   "outputs": [],
   "source": [
    "#From dataframes to arrays\n",
    "trrelevance_arr = np.array(df_to_train['relevance'])\n",
    "trfeature_arr = np.array(df_to_train[selected_features])\n",
    "trid_arr = np.array(df_to_train.srch_id)\n",
    "\n",
    "vrelevance_arr = np.array(df_to_val['relevance'])\n",
    "vfeature_arr = np.array(df_to_val[selected_features])\n",
    "vid_arr = np.array(df_to_val.srch_id)\n",
    "\n",
    "terelevance_arr = np.array(df_to_test['relevance'])\n",
    "tefeature_arr = np.array(df_to_test[selected_features])\n",
    "teid_arr = np.array(df_to_test.srch_id)"
   ]
  },
  {
   "cell_type": "markdown",
   "metadata": {},
   "source": [
    "## Run LambdaMART model"
   ]
  },
  {
   "cell_type": "code",
   "execution_count": 23,
   "metadata": {},
   "outputs": [
    {
     "name": "stdout",
     "output_type": "stream",
     "text": [
      " Iter  Train score    Remaining                           Monitor Output \n",
      "    1       0.6889       72.48m      C:      0.3722 B:      0.3722 S:  0\n",
      "    2       0.7057       65.45m      C:      0.3903 B:      0.3903 S:  0\n",
      "    3       0.7055       62.71m      C:      0.3916 B:      0.3916 S:  0\n",
      "    4       0.7075       61.08m      C:      0.3964 B:      0.3964 S:  0\n",
      "    5       0.7113       59.78m      C:      0.3981 B:      0.3981 S:  0\n",
      "    6       0.7175       58.84m      C:      0.4109 B:      0.4109 S:  0\n",
      "    7       0.7321       57.94m      C:      0.4264 B:      0.4264 S:  0\n",
      "    8       0.7352       57.13m      C:      0.4302 B:      0.4302 S:  0\n",
      "    9       0.7416       56.33m      C:      0.4390 B:      0.4390 S:  0\n",
      "   10       0.7459       55.62m      C:      0.4452 B:      0.4452 S:  0\n",
      "   15       0.7570       53.09m      C:      0.4635 B:      0.4635 S:  0\n",
      "   20       0.7659       49.93m      C:      0.4748 B:      0.4748 S:  0\n",
      "   25       0.7702       46.54m      C:      0.4806 B:      0.4806 S:  0\n",
      "   30       0.7728       43.25m      C:      0.4837 B:      0.4837 S:  0\n",
      "   35       0.7739       40.03m      C:      0.4858 B:      0.4858 S:  0\n",
      "   40       0.7757       36.86m      C:      0.4876 B:      0.4876 S:  0\n",
      "   45       0.7770       33.71m      C:      0.4892 B:      0.4892 S:  0\n",
      "   50       0.7782       30.58m      C:      0.4907 B:      0.4907 S:  0\n",
      "   60       0.7800       24.38m      C:      0.4926 B:      0.4926 S:  0\n",
      "   70       0.7815       18.24m      C:      0.4942 B:      0.4942 S:  0\n",
      "   80       0.7829       12.15m      C:      0.4956 B:      0.4956 S:  0\n",
      "   90       0.7838        6.07m      C:      0.4966 B:      0.4966 S:  0\n",
      "Early termination at iteration  99\n"
     ]
    },
    {
     "data": {
      "text/plain": [
       "<pyltr.models.lambdamart.LambdaMART at 0x1a1d133048>"
      ]
     },
     "execution_count": 23,
     "metadata": {},
     "output_type": "execute_result"
    }
   ],
   "source": [
    "#Choose nDCG as metric (k arbitrary number)\n",
    "metric = pyltr.metrics.NDCG(k=31)\n",
    "\n",
    "#Use validation set, stop_after arbitrary number\n",
    "# Only needed if you want to perform validation (early stopping & trimming)\n",
    "monitor = pyltr.models.monitors.ValidationMonitor(\n",
    "    vfeature_arr, vrelevance_arr, vid_arr, metric=metric, stop_after=300)\n",
    "\n",
    "feats = list(df_to_test[selected_features].columns)\n",
    "feats\n",
    "\n",
    "#Use lambdaMART - have to find the best values for the parametes\n",
    "n_estimators = 300\n",
    "min_samples_leaf=64\n",
    "model = pyltr.models.LambdaMART(\n",
    "    metric=metric,\n",
    "    n_estimators=n_estimators,\n",
    "    learning_rate=learning_rate,\n",
    "    #max_features=0.5,\n",
    "    #query_subsample=0.5,\n",
    "    #max_leaf_nodes=10,\n",
    "    min_samples_leaf=min_samples_leaf,\n",
    "    verbose=1\n",
    ")\n",
    "\n",
    "\n",
    "model.fit(trfeature_arr, trrelevance_arr, trid_arr, monitor=monitor)\n",
    "\n",
    "\n"
   ]
  },
  {
   "cell_type": "code",
   "execution_count": 24,
   "metadata": {},
   "outputs": [
    {
     "data": {
      "text/plain": [
       "['model100_final.pkl']"
      ]
     },
     "execution_count": 24,
     "metadata": {},
     "output_type": "execute_result"
    }
   ],
   "source": [
    "\n",
    "from sklearn.externals import joblib\n",
    "model_fname = \"model\" + str(n_estimators) + \"_final.pkl\"\n",
    "joblib.dump(model, model_fname) "
   ]
  },
  {
   "cell_type": "markdown",
   "metadata": {},
   "source": [
    "## Predict"
   ]
  },
  {
   "cell_type": "code",
   "execution_count": 25,
   "metadata": {},
   "outputs": [
    {
     "name": "stdout",
     "output_type": "stream",
     "text": [
      "Random ranking: 0.34487072290547127\n",
      "Our model: 0.49720328512559075\n",
      "0.4979490817865111\n"
     ]
    }
   ],
   "source": [
    "use_loaded_model = False\n",
    "if use_loaded_model:\n",
    "    model = joblib.load(model_fname)   \n",
    "\n",
    "if not use_full_test:\n",
    "    tepred = model.predict(tefeature_arr)\n",
    "    print('Random ranking:', metric.calc_mean_random(teid_arr, terelevance_arr))\n",
    "    print('Our model:', metric.calc_mean(teid_arr, terelevance_arr, tepred))\n",
    "\n",
    "    rand_seed=0\n",
    "\n",
    "\n",
    "\n",
    "    all_n = (len(df_to_train)+len(df_to_test) + len(df_to_val))/100000\n",
    "    #Need to add Search and Property IDs to the output (easy)\n",
    "    with open('result_statistics_final.txt', mode='a+') as f:\n",
    "        f.write('%s\\t%s\\t%s\\t%s\\t%.2f\\t%.2f\\t%.2f\\t%.2f\\t%.2f\\t%.5f\\t%s\\t%.0f\\t'%(k,rand_seed,len(feats), n_estimators, \n",
    "                all_n,len(df_to_train)/100000, len(df_to_test)/100000,\n",
    "                learning_rate,downsampling_rate, metric.calc_mean(teid_arr, terelevance_arr, tepred), balance_flag, min_samples_leaf)) \n",
    "\n",
    "\n",
    "    results_df = df_to_test[['srch_id', 'prop_id', 'relevance']].copy()\n",
    "    results_df['score'] = -1 * tepred\n",
    "\n",
    "    # predictions = list(-1.0*predictions)\n",
    "    recommendations = zip(results_df[\"srch_id\"], results_df[\"prop_id\"], results_df['relevance'], results_df['score'])\n",
    "    utils.write_submission(recommendations, \"lambdamart_test.csv\")\n",
    "\n",
    "    path_results = \"lambdamart_test.csv\"\n",
    "    nDCG_result = nDCG.compute_ndcg(path_results)\n",
    "    print(nDCG_result)\n",
    "    with open('result_statistics_our_nDCG_final.txt', mode='a+') as f:\n",
    "        f.write('%s\\t%s\\t%s\\t%s\\t%.2f\\t%.2f\\t%.2f\\t%.2f\\t%.2f\\t%.5f\\t%s\\t%.0f\\t'%(k,rand_seed,len(feats), n_estimators, \n",
    "                all_n,len(df_to_train)/100000, len(df_to_test)/100000,\n",
    "                learning_rate,downsampling_rate, nDCG_result, balance_flag, min_samples_leaf)) \n",
    "\n",
    "\n"
   ]
  },
  {
   "cell_type": "markdown",
   "metadata": {},
   "source": [
    "## Make predictions for final set"
   ]
  },
  {
   "cell_type": "code",
   "execution_count": 179,
   "metadata": {
    "collapsed": true
   },
   "outputs": [],
   "source": [
    "# this is another write_submission than previously, we dont have relevance anymore\n",
    "if use_full_test:\n",
    "    tepred = model.predict(tefeature_arr)\n",
    "    results_df = df_to_test[['srch_id', 'prop_id']].copy()\n",
    "    results_df['score'] = -1 * tepred\n",
    "\n",
    "    def write_submission(recommendations, submission_file):\n",
    "        \"\"\"\n",
    "        Function which writes submission, ordered on the probability obtained by the model.\n",
    "        The columns are SearchId, PropertyId and Relevance    \n",
    "        \"\"\"\n",
    "\n",
    "        global rows\n",
    "        submission_path = submission_file\n",
    "        rows = [(srch_id, int(prop_id))\n",
    "            for srch_id, prop_id, rank_float\n",
    "            in sorted(recommendations, key=itemgetter(0,2))]\n",
    "        writer = csv.writer(open(submission_path, \"w\"), lineterminator=\"\\n\")\n",
    "        writer.writerow((\"SearchId\", \"PropertyId\"))\n",
    "        writer.writerows(rows)\n",
    "\n",
    "    # predictions = list(-1.0*predictions)\n",
    "    recommendations = zip(results_df[\"srch_id\"], results_df[\"prop_id\"], results_df['score'])\n",
    "    path_results = \"final_prediction_file.csv\"\n",
    "\n",
    "    write_submission(recommendations, path_results)\n",
    "\n"
   ]
  },
  {
   "cell_type": "code",
   "execution_count": null,
   "metadata": {
    "collapsed": true
   },
   "outputs": [],
   "source": []
  }
 ],
 "metadata": {
  "kernelspec": {
   "display_name": "Python 3",
   "language": "python",
   "name": "python3"
  },
  "language_info": {
   "codemirror_mode": {
    "name": "ipython",
    "version": 3
   },
   "file_extension": ".py",
   "mimetype": "text/x-python",
   "name": "python",
   "nbconvert_exporter": "python",
   "pygments_lexer": "ipython3",
   "version": "3.5.3"
  }
 },
 "nbformat": 4,
 "nbformat_minor": 2
}
