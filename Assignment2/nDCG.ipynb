{
 "cells": [
  {
   "cell_type": "code",
   "execution_count": 1,
   "metadata": {},
   "outputs": [
    {
     "name": "stderr",
     "output_type": "stream",
     "text": [
      "C:\\Users\\John\\Anaconda3\\lib\\site-packages\\sklearn\\cross_validation.py:44: DeprecationWarning: This module was deprecated in version 0.18 in favor of the model_selection module into which all the refactored classes and functions are moved. Also note that the interface of the new CV iterators are different from that of this module. This module will be removed in 0.20.\n",
      "  \"This module will be removed in 0.20.\", DeprecationWarning)\n",
      "C:\\Users\\John\\Anaconda3\\lib\\site-packages\\matplotlib\\__init__.py:913: UserWarning: text.fontsize is deprecated and replaced with font.size; please use the latter.\n",
      "  warnings.warn(self.msg_depr % (key, alt_key))\n"
     ]
    }
   ],
   "source": [
    "import numpy as np # linear algebra\n",
    "import pandas as pd # data processing, CSV file I/O (e.g. pd.read_csv)\n",
    "import re\n",
    "import seaborn as sns\n",
    "import matplotlib.pyplot as plt\n",
    "import matplotlib\n",
    "import os\n",
    "#Models\n",
    "from sklearn.linear_model import LogisticRegression\n",
    "from sklearn.svm import SVC, LinearSVC\n",
    "from sklearn.ensemble import RandomForestClassifier\n",
    "from sklearn.neighbors import KNeighborsClassifier\n",
    "from sklearn.cross_validation import cross_val_score, cross_val_predict, KFold\n",
    "from sklearn.pipeline import make_pipeline\n",
    "from pylab import rcParams\n",
    "\n",
    "%matplotlib inline\n",
    "params = {'axes.labelsize': 14,'axes.titlesize':14, 'text.fontsize': 14, 'legend.fontsize': 14,\n",
    "          'xtick.labelsize': 13, 'ytick.labelsize': 14}\n",
    "rcParams['figure.figsize'] = 6.5, 4\n",
    "\n",
    "matplotlib.rcParams.update(params)"
   ]
  },
  {
   "cell_type": "code",
   "execution_count": 2,
   "metadata": {
    "collapsed": true
   },
   "outputs": [],
   "source": [
    "data = pd.read_csv('C:/Users/John/Desktop/DM/Data Mining VU data/training_set_VU_DM_2014.csv')"
   ]
  },
  {
   "cell_type": "code",
   "execution_count": 206,
   "metadata": {
    "collapsed": true
   },
   "outputs": [],
   "source": [
    "sample = data.head(1000)"
   ]
  },
  {
   "cell_type": "markdown",
   "metadata": {},
   "source": [
    "## nDCG Implementation"
   ]
  },
  {
   "cell_type": "code",
   "execution_count": 207,
   "metadata": {},
   "outputs": [],
   "source": [
    "#Add a column that contains each row's score\n",
    "sample = sample.assign(Score=pd.Series(np.zeros(len(sample['booking_bool']))).values)"
   ]
  },
  {
   "cell_type": "code",
   "execution_count": 209,
   "metadata": {},
   "outputs": [],
   "source": [
    "#Score = value_of['click_bool'] + 4 * value_of['booking_bool'] (coefficients based on given example)\n",
    "sample.iloc[:,-1] = sample.iloc[:,51] + 4 * sample.iloc[:,53]"
   ]
  },
  {
   "cell_type": "code",
   "execution_count": 210,
   "metadata": {},
   "outputs": [],
   "source": [
    "def dcg_at_k(r, k, method=0):\n",
    "    \"\"\"Score is discounted cumulative gain (dcg)\n",
    "    Relevance is positive real values.  Can use binary\n",
    "    as the previous methods.\n",
    "    Example from\n",
    "    http://www.stanford.edu/class/cs276/handouts/EvaluationNew-handout-6-per.pdf\n",
    "    >>> r = [3, 2, 3, 0, 0, 1, 2, 2, 3, 0]\n",
    "    >>> dcg_at_k(r, 1)\n",
    "    3.0\n",
    "    >>> dcg_at_k(r, 1, method=1)\n",
    "    3.0\n",
    "    >>> dcg_at_k(r, 2)\n",
    "    5.0\n",
    "    >>> dcg_at_k(r, 2, method=1)\n",
    "    4.2618595071429155\n",
    "    >>> dcg_at_k(r, 10)\n",
    "    9.6051177391888114\n",
    "    >>> dcg_at_k(r, 11)\n",
    "    9.6051177391888114\n",
    "    Args:\n",
    "        r: Relevance scores (list or numpy) in rank order\n",
    "            (first element is the first item)\n",
    "        k: Number of results to consider\n",
    "        method: If 0 then weights are [1.0, 1.0, 0.6309, 0.5, 0.4307, ...]\n",
    "                If 1 then weights are [1.0, 0.6309, 0.5, 0.4307, ...]\n",
    "    Returns:\n",
    "        Discounted cumulative gain\n",
    "    \"\"\"\n",
    "    r = np.asfarray(r)[:k]\n",
    "    if r.size:\n",
    "        if method == 0:\n",
    "            return r[0] + np.sum(r[1:] / np.log2(np.arange(2, r.size + 1)))\n",
    "        elif method == 1:\n",
    "            return np.sum(r / np.log2(np.arange(2, r.size + 2)))\n",
    "        else:\n",
    "            raise ValueError('method must be 0 or 1.')\n",
    "    return 0.\n",
    "\n",
    "\n",
    "def ndcg_at_k(r, k, method=0):\n",
    "    \"\"\"Score is normalized discounted cumulative gain (ndcg)\n",
    "    Relevance is positive real values.  Can use binary\n",
    "    as the previous methods.\n",
    "    Example from\n",
    "    http://www.stanford.edu/class/cs276/handouts/EvaluationNew-handout-6-per.pdf\n",
    "    >>> r = [3, 2, 3, 0, 0, 1, 2, 2, 3, 0]\n",
    "    >>> ndcg_at_k(r, 1)\n",
    "    1.0\n",
    "    >>> r = [2, 1, 2, 0]\n",
    "    >>> ndcg_at_k(r, 4)\n",
    "    0.9203032077642922\n",
    "    >>> ndcg_at_k(r, 4, method=1)\n",
    "    0.96519546960144276\n",
    "    >>> ndcg_at_k([0], 1)\n",
    "    0.0\n",
    "    >>> ndcg_at_k([1], 2)\n",
    "    1.0\n",
    "    Args:\n",
    "        r: Relevance scores (list or numpy) in rank order\n",
    "            (first element is the first item)\n",
    "        k: Number of results to consider\n",
    "        method: If 0 then weights are [1.0, 1.0, 0.6309, 0.5, 0.4307, ...]\n",
    "                If 1 then weights are [1.0, 0.6309, 0.5, 0.4307, ...]\n",
    "    Returns:\n",
    "        Normalized discounted cumulative gain\n",
    "    \"\"\"\n",
    "    dcg_max = dcg_at_k(sorted(r, reverse=True), k, method)\n",
    "    if not dcg_max:\n",
    "        return 0.\n",
    "    return dcg_at_k(r, k, method) / dcg_max"
   ]
  },
  {
   "cell_type": "code",
   "execution_count": 212,
   "metadata": {},
   "outputs": [
    {
     "name": "stdout",
     "output_type": "stream",
     "text": [
      "Srch_ID 1 :  0.262649535037\n",
      "Srch_ID 4 :  0.198239863171\n",
      "Srch_ID 6 :  0.430676558073\n",
      "Srch_ID 8 :  0.430676558073\n",
      "Srch_ID 11 :  0.386852807235\n",
      "Srch_ID 12 :  0.208014597677\n",
      "Srch_ID 17 :  0.221064729458\n",
      "Srch_ID 21 :  0.239812466568\n",
      "Srch_ID 25 :  0.386852807235\n",
      "Srch_ID 28 :  0.430676558073\n",
      "Srch_ID 29 :  1.0\n",
      "Srch_ID 30 :  0.218104291986\n",
      "Srch_ID 31 :  0.630929753571\n",
      "Srch_ID 36 :  0.5\n",
      "Srch_ID 39 :  0.239812466568\n",
      "Srch_ID 40 :  0.270238154427\n",
      "Srch_ID 42 :  0.435152391237\n",
      "Srch_ID 43 :  0.215338279037\n",
      "Srch_ID 44 :  0.630929753571\n",
      "Srch_ID 45 :  0.270238154427\n",
      "Srch_ID 46 :  0.269314527558\n",
      "Srch_ID 47 :  0.23137821316\n",
      "Srch_ID 49 :  0.356207187108\n",
      "Srch_ID 52 :  0.278942945651\n",
      "Srch_ID 53 :  0.315464876786\n",
      "Srch_ID 56 :  0.430676558073\n",
      "Srch_ID 57 :  0.208014597677\n",
      "Srch_ID 60 :  0.630929753571\n",
      "Srch_ID 61 :  0.289064826318\n",
      "Srch_ID 63 :  0.333333333333\n",
      "Srch_ID 64 :  0.215338279037\n",
      "Srch_ID 65 :  0.235408913367\n",
      "Srch_ID 66 :  0.289064826318\n",
      "Srch_ID 67 :  0.5\n",
      "Srch_ID 71 :  0.20584683246\n",
      "Srch_ID 72 :  0.244650542118\n",
      "Srch_ID 73 :  0.244650542118\n",
      "Srch_ID 74 :  0.289064826318\n",
      "Srch_ID 75 :  0.201849086582\n",
      "Srch_ID 78 :  0.0\n"
     ]
    }
   ],
   "source": [
    "#Calculate the nDCG for each srch_ID\n",
    "\n",
    "ndcg_list = []\n",
    "\n",
    "for x in enumerate(sample['srch_id'].unique()):\n",
    "    ndcg_list.append(ndcg_at_k(sample['Score'][sample['srch_id']==x[1]], sample['srch_id'][sample['srch_id']==x[1]].count(), method=1))\n",
    "    print('Srch_ID',x[1],': ',ndcg_at_k(sample['Score'][sample['srch_id']==x[1]], sample['srch_id'][sample['srch_id']==x[1]].count(), method=1))\n"
   ]
  },
  {
   "cell_type": "code",
   "execution_count": 214,
   "metadata": {},
   "outputs": [
    {
     "data": {
      "text/plain": [
       "0.33438650982443996"
      ]
     },
     "execution_count": 214,
     "metadata": {},
     "output_type": "execute_result"
    }
   ],
   "source": [
    "#Calculate nDCG of the whole model\n",
    "np.mean(ndcg_list)"
   ]
  }
 ],
 "metadata": {
  "kernelspec": {
   "display_name": "Python 3",
   "language": "python",
   "name": "python3"
  },
  "language_info": {
   "codemirror_mode": {
    "name": "ipython",
    "version": 3
   },
   "file_extension": ".py",
   "mimetype": "text/x-python",
   "name": "python",
   "nbconvert_exporter": "python",
   "pygments_lexer": "ipython3",
   "version": "3.6.1"
  }
 },
 "nbformat": 4,
 "nbformat_minor": 2
}
