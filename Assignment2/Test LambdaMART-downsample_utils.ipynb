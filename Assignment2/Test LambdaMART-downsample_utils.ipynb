{
 "cells": [
  {
   "cell_type": "code",
   "execution_count": 53,
   "metadata": {},
   "outputs": [
    {
     "name": "stderr",
     "output_type": "stream",
     "text": [
      "/home/marleen/anaconda3/lib/python3.6/site-packages/matplotlib/__init__.py:913: UserWarning: text.fontsize is deprecated and replaced with font.size; please use the latter.\n",
      "  warnings.warn(self.msg_depr % (key, alt_key))\n"
     ]
    }
   ],
   "source": [
    "import numpy as np # linear algebra\n",
    "import pandas as pd # data processing, CSV file I/O (e.g. pd.read_csv)\n",
    "import re\n",
    "import seaborn as sns\n",
    "import matplotlib.pyplot as plt\n",
    "import matplotlib\n",
    "import os\n",
    "#Models\n",
    "from sklearn.linear_model import LogisticRegression\n",
    "from sklearn.svm import SVC, LinearSVC\n",
    "from sklearn.ensemble import RandomForestClassifier\n",
    "from sklearn.neighbors import KNeighborsClassifier\n",
    "from sklearn.cross_validation import cross_val_score, cross_val_predict, KFold\n",
    "from sklearn.pipeline import make_pipeline\n",
    "from pylab import rcParams\n",
    "from sklearn.metrics import confusion_matrix\n",
    "import pyltr\n",
    "\n",
    "import data_preprocessing\n",
    "%matplotlib inline\n",
    "params = {'axes.labelsize': 14,'axes.titlesize':14, 'text.fontsize': 14, 'legend.fontsize': 14,\n",
    "          'xtick.labelsize': 13, 'ytick.labelsize': 14}\n",
    "rcParams['figure.figsize'] = 6.5, 4\n",
    "\n",
    "matplotlib.rcParams.update(params)\n",
    "\n",
    "from collections import OrderedDict\n",
    "\n",
    "import utils\n",
    "from operator import itemgetter\n",
    "\n",
    "import nDCG"
   ]
  },
  {
   "cell_type": "code",
   "execution_count": 79,
   "metadata": {
    "collapsed": true
   },
   "outputs": [],
   "source": [
    "import imp\n",
    "utils = imp.reload(utils)\n",
    "nDCG = imp.reload(nDCG)"
   ]
  },
  {
   "cell_type": "code",
   "execution_count": 2,
   "metadata": {
    "collapsed": true
   },
   "outputs": [],
   "source": [
    "balance_flag = True\n",
    "downsampling_rate = 3\n",
    "learning_rate = 0.05\n"
   ]
  },
  {
   "cell_type": "code",
   "execution_count": 3,
   "metadata": {
    "collapsed": true
   },
   "outputs": [],
   "source": [
    "#Training file\n",
    "df=pd.read_pickle('cleaned_dataset')\n",
    "\n",
    "# add column with relevance scores\n",
    "df['relevance'] = df['booking_bool'] + df['click_bool']\n",
    "\n",
    "# change relevance column with relevance score (1 if clicked, 5 if booked)\n",
    "df['relevance'] = df['relevance'].map({0:0, 1:1, 2:5})\n",
    "\n",
    "# all_cols = df.columns.drop(['booking_bool', 'click_bool', 'gross_bookings_usd', 'position'])\n",
    "# for feature in all_cols:\n",
    "#     df[feature] = df[feature].replace([np.inf, -np.inf], np.nan)\n",
    "#     df[feature][df[feature].isnull()] = df[feature].median()\n",
    "    \n"
   ]
  },
  {
   "cell_type": "code",
   "execution_count": 4,
   "metadata": {
    "collapsed": true
   },
   "outputs": [],
   "source": [
    "\n",
    "# create list of ids in random order\n",
    "id_list = df.srch_id.unique()\n",
    "np.random.shuffle(id_list)\n",
    "\n",
    "# for reproducibility \n",
    "np.random.seed(1337)\n",
    "\n",
    "# training - test fraction is 70/30\n",
    "id_train = int(len(id_list) * 0.7)\n",
    "id_val = int(len(id_list) * 0.9)\n",
    "\n",
    "training_id = id_list[:id_train]\n",
    "validation_id = id_list[id_train:id_val]\n",
    "\n",
    "test_id = id_list[id_val:]\n",
    "\n",
    "# divide dataset in test and training set\n",
    "train = df.loc[df.srch_id.isin(training_id)]\n",
    "val = df.loc[df.srch_id.isin(validation_id)]\n",
    "test = df.loc[df.srch_id.isin(test_id)]"
   ]
  },
  {
   "cell_type": "code",
   "execution_count": 5,
   "metadata": {},
   "outputs": [
    {
     "data": {
      "image/png": "[encoded data removed]",
      "text/plain": [
       "<matplotlib.figure.Figure at 0x7fbf1860d6d8>"
      ]
     },
     "metadata": {},
     "output_type": "display_data"
    },
    {
     "data": {
      "image/png": "[encoded data removed]",
      "text/plain": [
       "<matplotlib.figure.Figure at 0x7fbf145dbf28>"
      ]
     },
     "metadata": {},
     "output_type": "display_data"
    }
   ],
   "source": [
    "from sklearn.utils import resample\n",
    "\n",
    "train['relevance'].hist()\n",
    "\n",
    "plt.show()\n",
    "def balance_dataset(train, downsampling_rate):\n",
    "    \n",
    "    # Separate majority and minority classes\n",
    "    df_majority = train[train.relevance==0]\n",
    "    df_minority = train[train.relevance==5]\n",
    "    df_minority2 = train[train.relevance==1]\n",
    "\n",
    "    # Downsample majority class\n",
    "    df_majority_downsampled = resample(df_majority, \n",
    "                                     replace=False,    # sample without replacement\n",
    "                                     n_samples=df_minority.shape[0]*downsampling_rate,     # to match minority class\n",
    "                                     random_state=123) # reproducible results\n",
    "\n",
    "\n",
    "    # Combine minority class with downsampled majority class\n",
    "    df_downsampled = pd.concat([df_majority_downsampled, df_minority, df_minority2])\n",
    "\n",
    "    # Display new class counts\n",
    "    df_downsampled.relevance.value_counts()\n",
    "\n",
    "    df_downsampled['relevance'].hist()\n",
    "    #df_downsampled['relevance'].value_counts()\n",
    "    train = df_downsampled\n",
    "    train = train.sort_values('srch_id')\n",
    "    return train\n",
    "\n",
    "if balance_flag:\n",
    "    train = balance_dataset(train,downsampling_rate)\n",
    "\n"
   ]
  },
  {
   "cell_type": "code",
   "execution_count": 6,
   "metadata": {},
   "outputs": [
    {
     "data": {
      "text/plain": [
       "(1000000, 60)"
      ]
     },
     "execution_count": 6,
     "metadata": {},
     "output_type": "execute_result"
    }
   ],
   "source": [
    "#Efi's code for data cleaning\n",
    "df.shape"
   ]
  },
  {
   "cell_type": "code",
   "execution_count": 7,
   "metadata": {
    "collapsed": true
   },
   "outputs": [],
   "source": [
    "##Unorthodox Implementation - vectors or fearures need to be reduced/rearranged\n",
    "\n",
    "#Select the same features from each dataset\n",
    "selected_features = ['comp6_rate_percent_diff_signed',\n",
    " 'comp4_rate_percent_diff_signed',\n",
    " 'comp8_rate_percent_diff_signed',\n",
    " 'comp7_rate_percent_diff_signed',\n",
    " 'star_diff_from_historic_mean',\n",
    " 'visitor_hist_adr_usd',\n",
    " 'srch_query_affinity_score',\n",
    " 'srch_room_count',\n",
    " 'visitor_hist_starrating',\n",
    " 'price_diff_from_historic_mean',\n",
    " 'srch_adults_count',\n",
    " 'prop_brand_bool',\n",
    " 'prop_country_id',\n",
    " 'visitor_location_country_id',\n",
    " 'prop_starrating',\n",
    " 'prop_review_score',\n",
    " 'srch_saturday_night_bool',\n",
    " 'site_id',\n",
    " 'srch_length_of_stay',\n",
    " 'prop_starrating_monot',\n",
    " 'random_bool',\n",
    " 'promotion_flag',\n",
    " 'prop_location_score_mean',\n",
    " 'orig_destination_distance',\n",
    " 'srch_children_count',\n",
    " 'prop_location_score2',\n",
    " 'prop_id',\n",
    " 'star_rank']\n",
    "\n",
    "\n"
   ]
  },
  {
   "cell_type": "code",
   "execution_count": 8,
   "metadata": {
    "collapsed": true
   },
   "outputs": [],
   "source": [
    "selected_features = ['visitor_hist_adr_usd',\n",
    " 'star_diff_from_historic_mean',\n",
    " 'comp1_rate_percent_diff_log',\n",
    " 'srch_query_affinity_score',\n",
    " 'srch_room_count',\n",
    " 'visitor_hist_starrating',\n",
    " 'price_diff_from_historic_mean',\n",
    " 'comp1_rate_percent_diff_signed',\n",
    " 'comp7_rate_percent_diff_signed',\n",
    " 'srch_adults_count',\n",
    " 'prop_brand_bool',\n",
    " 'prop_country_id',\n",
    " 'visitor_location_country_id',\n",
    " 'comp6_rate_percent_diff_signed',\n",
    " 'prop_starrating',\n",
    " 'prop_review_score',\n",
    " 'srch_saturday_night_bool',\n",
    " 'random_bool',\n",
    " 'site_id',\n",
    " 'srch_length_of_stay',\n",
    " 'prop_starrating_monot',\n",
    " 'srch_id',\n",
    " 'orig_destination_distance',\n",
    " 'promotion_flag',\n",
    " 'price_rank',\n",
    " 'star_rank',\n",
    " 'srch_destination_id',\n",
    " 'srch_children_count',\n",
    " 'prop_location_score2_norm',\n",
    " 'prop_location_score1_norm',\n",
    " 'price_usd_norm_srch_id',\n",
    " 'prop_location_score2',\n",
    " 'prop_id',\n",
    " 'prop_location_score_mean',\n",
    " 'srch_booking_window',\n",
    " 'value_for_money_norm_srch_id',\n",
    " 'comp5_inv',\n",
    " 'value_for_money',\n",
    " 'comp_rate_percent_diff_mean',\n",
    " 'prop_log_historical_price',\n",
    " 'price_usd',\n",
    " 'prop_location_score1',\n",
    " 'comp2_inv',\n",
    " 'comp2_rate_percent_diff_signed',\n",
    " 'comp1_inv',\n",
    " 'comp3_inv',\n",
    " 'comp8_inv',\n",
    " 'log_price_usd',\n",
    " 'comp4_inv',\n",
    " 'comp3_rate_percent_diff_signed',\n",
    " 'comp7_inv',\n",
    " 'price_usd_norm_prop_id',\n",
    " 'comp4_rate_percent_diff_signed',\n",
    " 'comp5_rate_percent_diff_signed',\n",
    " 'comp6_inv']\n",
    "\n",
    "\n",
    "TO_DROP=[\n",
    " 'comp1_rate','comp2_rate','comp3_rate','comp4_rate','comp5_rate',\n",
    " 'comp6_rate','comp7_rate','comp8_rate',\n",
    " 'comp6_rate_percent_diff',\n",
    " 'comp4_rate_percent_diff',\n",
    " 'comp7_rate_percent_diff',\n",
    " 'comp1_rate_percent_diff',\n",
    " 'comp3_rate_percent_diff',\n",
    " 'comp2_rate_percent_diff',\n",
    " 'comp8_rate_percent_diff',\n",
    " 'comp5_rate_percent_diff',\n",
    " 'comp1_rate_percent_diff_signed_norm',\n",
    " 'comp2_rate_percent_diff_signed_norm',\n",
    " 'comp4_rate_percent_diff_signed_norm',\n",
    " 'comp8_rate_percent_diff_signed_norm',\n",
    " 'comp3_rate_percent_diff_signed_norm',\n",
    " 'comp5_rate_percent_diff_signed_norm',\n",
    " 'comp6_rate_percent_diff_signed_norm',\n",
    " 'comp7_rate_percent_diff_signed_norm',\n",
    " 'prop_location_score1',\n",
    " 'prop_location_score2']\n",
    "\n",
    "selected_features = list(set(selected_features))\n",
    "TO_DROP = list(set(TO_DROP))\n",
    "\n",
    "for feat in list(TO_DROP):\n",
    "    if feat in selected_features:\n",
    "        selected_features.remove(feat)"
   ]
  },
  {
   "cell_type": "code",
   "execution_count": 9,
   "metadata": {},
   "outputs": [
    {
     "name": "stderr",
     "output_type": "stream",
     "text": [
      "/home/marleen/anaconda3/lib/python3.6/site-packages/ipykernel_launcher.py:6: DeprecationWarning: \n",
      ".ix is deprecated. Please use\n",
      ".loc for label based indexing or\n",
      ".iloc for positional indexing\n",
      "\n",
      "See the documentation here:\n",
      "http://pandas.pydata.org/pandas-docs/stable/indexing.html#ix-indexer-is-deprecated\n",
      "  \n",
      "/home/marleen/anaconda3/lib/python3.6/site-packages/ipykernel_launcher.py:7: DeprecationWarning: \n",
      ".ix is deprecated. Please use\n",
      ".loc for label based indexing or\n",
      ".iloc for positional indexing\n",
      "\n",
      "See the documentation here:\n",
      "http://pandas.pydata.org/pandas-docs/stable/indexing.html#ix-indexer-is-deprecated\n",
      "  import sys\n",
      "/home/marleen/anaconda3/lib/python3.6/site-packages/ipykernel_launcher.py:8: DeprecationWarning: \n",
      ".ix is deprecated. Please use\n",
      ".loc for label based indexing or\n",
      ".iloc for positional indexing\n",
      "\n",
      "See the documentation here:\n",
      "http://pandas.pydata.org/pandas-docs/stable/indexing.html#ix-indexer-is-deprecated\n",
      "  \n"
     ]
    }
   ],
   "source": [
    "features_to_keep = ['booking_bool', 'srch_id', 'click_bool', 'prop_id', 'relevance']\n",
    "selected_features = list(set(set(selected_features).difference(features_to_keep)))\n",
    "all_possible_features = features_to_keep + selected_features\n",
    "\n",
    "all_possible_features = list(set(all_possible_features))\n",
    "df_to_train = train.ix[:,all_possible_features]\n",
    "df_to_val = val.ix[:,all_possible_features]\n",
    "df_to_test = test.ix[:,all_possible_features]\n",
    "\n",
    "\n",
    "\n",
    "#Since we've created a new variable that combined those two, there's no need in keeping them\n",
    "df_to_train.drop(['booking_bool', 'click_bool'], axis = 1)\n",
    "df_to_val.drop(['booking_bool', 'click_bool'], axis = 1)\n",
    "df_to_test.drop(['booking_bool', 'click_bool'], axis = 1)\n",
    "\n",
    "#Rearrange the columns because lambdaMART wants the target variable and the IDs in the first and second column respectively\n",
    "df_to_train = df_to_train[['relevance', 'srch_id', 'prop_id']+selected_features]\n",
    "df_to_val =  df_to_val[['relevance', 'srch_id', 'prop_id']+selected_features]\n",
    "df_to_test =  df_to_test[['relevance', 'srch_id', 'prop_id']+selected_features]\n"
   ]
  },
  {
   "cell_type": "code",
   "execution_count": null,
   "metadata": {
    "collapsed": true
   },
   "outputs": [],
   "source": []
  },
  {
   "cell_type": "markdown",
   "metadata": {},
   "source": [
    "# Downsample majority class"
   ]
  },
  {
   "cell_type": "code",
   "execution_count": 10,
   "metadata": {},
   "outputs": [
    {
     "data": {
      "text/plain": [
       "['price_diff_from_historic_mean',\n",
       " 'comp6_rate_percent_diff_signed',\n",
       " 'comp1_rate_percent_diff_signed',\n",
       " 'comp7_rate_percent_diff_signed',\n",
       " 'prop_brand_bool',\n",
       " 'price_usd_norm_srch_id',\n",
       " 'value_for_money_norm_srch_id',\n",
       " 'orig_destination_distance',\n",
       " 'comp3_inv',\n",
       " 'srch_query_affinity_score',\n",
       " 'prop_location_score_mean',\n",
       " 'srch_adults_count',\n",
       " 'comp6_inv',\n",
       " 'srch_children_count',\n",
       " 'prop_log_historical_price',\n",
       " 'comp1_inv',\n",
       " 'visitor_location_country_id',\n",
       " 'srch_destination_id',\n",
       " 'comp7_inv',\n",
       " 'visitor_hist_adr_usd',\n",
       " 'prop_starrating_monot',\n",
       " 'prop_country_id',\n",
       " 'price_usd_norm_prop_id',\n",
       " 'comp2_rate_percent_diff_signed',\n",
       " 'comp_rate_percent_diff_mean',\n",
       " 'comp4_rate_percent_diff_signed',\n",
       " 'price_usd',\n",
       " 'comp3_rate_percent_diff_signed',\n",
       " 'site_id',\n",
       " 'prop_location_score1_norm',\n",
       " 'prop_starrating',\n",
       " 'srch_saturday_night_bool',\n",
       " 'visitor_hist_starrating',\n",
       " 'value_for_money',\n",
       " 'srch_booking_window',\n",
       " 'price_rank',\n",
       " 'star_diff_from_historic_mean',\n",
       " 'srch_length_of_stay',\n",
       " 'comp5_rate_percent_diff_signed',\n",
       " 'prop_review_score',\n",
       " 'srch_room_count',\n",
       " 'random_bool',\n",
       " 'comp4_inv',\n",
       " 'promotion_flag',\n",
       " 'log_price_usd',\n",
       " 'comp2_inv',\n",
       " 'prop_location_score2_norm',\n",
       " 'comp8_inv',\n",
       " 'star_rank',\n",
       " 'comp5_inv',\n",
       " 'comp1_rate_percent_diff_log']"
      ]
     },
     "execution_count": 10,
     "metadata": {},
     "output_type": "execute_result"
    }
   ],
   "source": [
    "feats = list(df_to_test[selected_features].columns)\n",
    "feats"
   ]
  },
  {
   "cell_type": "code",
   "execution_count": 11,
   "metadata": {},
   "outputs": [
    {
     "name": "stdout",
     "output_type": "stream",
     "text": [
      "comp6_rate_percent_diff_signed\n",
      "comp1_rate_percent_diff_signed\n",
      "comp7_rate_percent_diff_signed\n",
      "price_usd_norm_srch_id\n",
      "value_for_money_norm_srch_id\n",
      "prop_location_score_mean\n",
      "prop_starrating_monot\n",
      "price_usd_norm_prop_id\n",
      "comp2_rate_percent_diff_signed\n",
      "comp_rate_percent_diff_mean\n",
      "comp4_rate_percent_diff_signed\n",
      "comp3_rate_percent_diff_signed\n",
      "prop_location_score1_norm\n",
      "comp5_rate_percent_diff_signed\n",
      "log_price_usd\n",
      "prop_location_score2_norm\n",
      "comp1_rate_percent_diff_log\n"
     ]
    }
   ],
   "source": [
    "all_na_cols=[]\n",
    "for col in df_to_train[selected_features]:\n",
    "    data = df_to_train[col]\n",
    "    if data.isnull().all(): \n",
    "        print(col)\n",
    "        all_na_cols.append(col)\n",
    "        \n",
    "    "
   ]
  },
  {
   "cell_type": "code",
   "execution_count": 12,
   "metadata": {
    "collapsed": true
   },
   "outputs": [],
   "source": [
    "selected_features=set(selected_features)\n",
    "selected_features = list(selected_features.difference(all_na_cols))"
   ]
  },
  {
   "cell_type": "code",
   "execution_count": null,
   "metadata": {
    "collapsed": true
   },
   "outputs": [],
   "source": [
    "\n"
   ]
  },
  {
   "cell_type": "code",
   "execution_count": 13,
   "metadata": {
    "collapsed": true
   },
   "outputs": [],
   "source": [
    "#From dataframes to arrays\n",
    "trrelevance_arr = np.array(df_to_train['relevance'])\n",
    "trfeature_arr = np.array(df_to_train[selected_features])\n",
    "trid_arr = np.array(df_to_train.srch_id)\n",
    "\n",
    "vrelevance_arr = np.array(df_to_val['relevance'])\n",
    "vfeature_arr = np.array(df_to_val[selected_features])\n",
    "vid_arr = np.array(df_to_val.srch_id)\n",
    "\n",
    "terelevance_arr = np.array(df_to_test['relevance'])\n",
    "tefeature_arr = np.array(df_to_test[selected_features])\n",
    "teid_arr = np.array(df_to_test.srch_id)"
   ]
  },
  {
   "cell_type": "code",
   "execution_count": 71,
   "metadata": {
    "collapsed": true
   },
   "outputs": [],
   "source": [
    "#Choose nDCG as metric (k arbitrary number)\n",
    "metric = pyltr.metrics.NDCG(k=31)\n",
    "\n",
    "#Use validation set, stop_after arbitrary number\n",
    "# Only needed if you want to perform validation (early stopping & trimming)\n",
    "monitor = pyltr.models.monitors.ValidationMonitor(\n",
    "    vfeature_arr, vrelevance_arr, vid_arr, metric=metric, stop_after=300)"
   ]
  },
  {
   "cell_type": "code",
   "execution_count": 72,
   "metadata": {},
   "outputs": [
    {
     "data": {
      "text/plain": [
       "(209136, 34)"
      ]
     },
     "execution_count": 72,
     "metadata": {},
     "output_type": "execute_result"
    }
   ],
   "source": [
    "vfeature_arr.shape"
   ]
  },
  {
   "cell_type": "code",
   "execution_count": 73,
   "metadata": {},
   "outputs": [
    {
     "name": "stdout",
     "output_type": "stream",
     "text": [
      " Iter  Train score    Remaining                           Monitor Output \n",
      "    1       0.7079        1.15m      C:      0.3013 B:      0.3013 S:  0\n",
      "    2       0.7493       52.99s      C:      0.3462 B:      0.3462 S:  0\n",
      "    3       0.7557       44.28s      C:      0.3536 B:      0.3536 S:  0\n",
      "    4       0.7559       36.97s      C:      0.3543 B:      0.3543 S:  0\n",
      "    5       0.7558       30.32s      C:      0.3543 B:      0.3543 S:  0\n",
      "    6       0.7718       24.01s      C:      0.3690 B:      0.3690 S:  0\n",
      "    7       0.7715       17.83s      C:      0.3689 B:      0.3690 S:  1\n",
      "    8       0.7750       11.83s      C:      0.3766 B:      0.3766 S:  0\n",
      "    9       0.7754        5.90s      C:      0.3779 B:      0.3779 S:  0\n",
      "Early termination at iteration  9\n"
     ]
    },
    {
     "data": {
      "text/plain": [
       "<pyltr.models.lambdamart.LambdaMART at 0x7fbf144867b8>"
      ]
     },
     "execution_count": 73,
     "metadata": {},
     "output_type": "execute_result"
    }
   ],
   "source": [
    "#Use lambdaMART - have to find the best values for the parametes\n",
    "n_estimators = 10\n",
    "model = pyltr.models.LambdaMART(\n",
    "    metric=metric,\n",
    "    n_estimators=n_estimators,\n",
    "    learning_rate=learning_rate,\n",
    "    #max_features=0.5,\n",
    "    #query_subsample=0.5,\n",
    "    #max_leaf_nodes=10,\n",
    "    #min_samples_leaf=64,\n",
    "    verbose=1\n",
    ")\n",
    "\n",
    "model.fit(trfeature_arr, trrelevance_arr, trid_arr, monitor=monitor)"
   ]
  },
  {
   "cell_type": "code",
   "execution_count": 74,
   "metadata": {},
   "outputs": [
    {
     "name": "stdout",
     "output_type": "stream",
     "text": [
      "Random ranking: 0.347478140571\n",
      "Our model: 0.379665536594\n"
     ]
    }
   ],
   "source": [
    "tepred = model.predict(tefeature_arr)\n",
    "print('Random ranking:', metric.calc_mean_random(teid_arr, terelevance_arr))\n",
    "print('Our model:', metric.calc_mean(teid_arr, terelevance_arr, tepred))\n",
    "\n",
    "#Need to add Search and Property IDs to the output (easy)\n"
   ]
  },
  {
   "cell_type": "code",
   "execution_count": 23,
   "metadata": {
    "collapsed": true
   },
   "outputs": [],
   "source": [
    "with open('result_statistics.txt', mode='a+') as f:\n",
    "    f.write('%s\\t%s\\t%.2f\\t%.2f\\t%.2f\\t%.2f\\t%.2f\\t%.5f\\t%s\\n'%(len(feats), n_estimators, \n",
    "            len(df)/100000,len(df_to_train)/100000, len(df_to_test)/100000,\n",
    "            learning_rate,downsampling_rate, metric.calc_mean(teid_arr, terelevance_arr, tepred), balance_flag)) \n",
    "    "
   ]
  },
  {
   "cell_type": "code",
   "execution_count": 24,
   "metadata": {
    "collapsed": true
   },
   "outputs": [],
   "source": [
    "import pickle\n",
    "model_save = pickle.dumps(model)\n",
    "new_model = pickle.loads(model_save)\n"
   ]
  },
  {
   "cell_type": "code",
   "execution_count": 88,
   "metadata": {},
   "outputs": [
    {
     "name": "stdout",
     "output_type": "stream",
     "text": [
      "0.421705842586\n"
     ]
    }
   ],
   "source": [
    "from operator import itemgetter\n",
    "nDCG = imp.reload(nDCG)\n",
    "results_df = df_to_test[['srch_id', 'prop_id', 'relevance']].copy()\n",
    "results_df['score'] = -1 * tepred\n",
    "\n",
    "# predictions = list(-1.0*predictions)\n",
    "recommendations = zip(results_df[\"srch_id\"], results_df[\"prop_id\"], results_df['relevance'], results_df['score'])\n",
    "utils.write_submission(recommendations, \"lambdamart_test.csv\")\n",
    "\n",
    "path_results = \"Bench_Results/lambdamart_test.csv\"\n",
    "print(nDCG.compute_ndcg(path_results))"
   ]
  },
  {
   "cell_type": "code",
   "execution_count": 76,
   "metadata": {},
   "outputs": [
    {
     "name": "stdout",
     "output_type": "stream",
     "text": [
      "[69601 66671 16116 ..., 12105 41554 60367]\n"
     ]
    }
   ],
   "source": [
    "ordinals = np.arange(len(df_to_test))\n",
    "np.random.shuffle(ordinals)\n",
    "recommendations = zip(results_df[\"srch_id\"], results_df[\"prop_id\"], results_df['relevance'], ordinals)\n",
    "utils.write_submission(recommendations, \"randomBenchmark_test.csv\")\n",
    "print(ordinals)"
   ]
  },
  {
   "cell_type": "code",
   "execution_count": 77,
   "metadata": {},
   "outputs": [
    {
     "name": "stdout",
     "output_type": "stream",
     "text": [
      "0.354215149966\n"
     ]
    }
   ],
   "source": [
    "path_results = \"Bench_Results/randomBenchmark_test.csv\"\n",
    "print(nDCG.compute_ndcg(path_results))"
   ]
  },
  {
   "cell_type": "code",
   "execution_count": null,
   "metadata": {
    "collapsed": true
   },
   "outputs": [],
   "source": []
  }
 ],
 "metadata": {
  "kernelspec": {
   "display_name": "Python 3",
   "language": "python",
   "name": "python3"
  },
  "language_info": {
   "codemirror_mode": {
    "name": "ipython",
    "version": 3
   },
   "file_extension": ".py",
   "mimetype": "text/x-python",
   "name": "python",
   "nbconvert_exporter": "python",
   "pygments_lexer": "ipython3",
   "version": "3.6.1"
  }
 },
 "nbformat": 4,
 "nbformat_minor": 2
}
